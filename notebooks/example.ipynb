{
 "cells": [
  {
   "cell_type": "code",
   "execution_count": 39,
   "metadata": {},
   "outputs": [
    {
     "data": {
      "text/html": [
       "\n",
       "            <div id=\"RQYxya\"></div>\n",
       "            <script type=\"text/javascript\" data-lets-plot-script=\"library\">\n",
       "                if(!window.letsPlotCallQueue) {\n",
       "                    window.letsPlotCallQueue = [];\n",
       "                }; \n",
       "                window.letsPlotCall = function(f) {\n",
       "                    window.letsPlotCallQueue.push(f);\n",
       "                };\n",
       "                (function() {\n",
       "                    var script = document.createElement(\"script\");\n",
       "                    script.type = \"text/javascript\";\n",
       "                    script.src = \"https://cdn.jsdelivr.net/gh/JetBrains/lets-plot@v4.0.0/js-package/distr/lets-plot.min.js\";\n",
       "                    script.onload = function() {\n",
       "                        window.letsPlotCall = function(f) {f();};\n",
       "                        window.letsPlotCallQueue.forEach(function(f) {f();});\n",
       "                        window.letsPlotCallQueue = [];\n",
       "                        \n",
       "                    };\n",
       "                    script.onerror = function(event) {\n",
       "                        window.letsPlotCall = function(f) {};    // noop\n",
       "                        window.letsPlotCallQueue = [];\n",
       "                        var div = document.createElement(\"div\");\n",
       "                        div.style.color = 'darkred';\n",
       "                        div.textContent = 'Error loading Lets-Plot JS';\n",
       "                        document.getElementById(\"RQYxya\").appendChild(div);\n",
       "                    };\n",
       "                    var e = document.getElementById(\"RQYxya\");\n",
       "                    e.appendChild(script);\n",
       "                })()\n",
       "            </script>\n",
       "            "
      ]
     },
     "metadata": {},
     "output_type": "display_data"
    }
   ],
   "source": [
    "import numpy as np\n",
    "import pandas as pd\n",
    "from lets_plot import *\n",
    "LetsPlot.setup_html()"
   ]
  },
  {
   "cell_type": "markdown",
   "metadata": {},
   "source": [
    "### Random (gaussian) 2D array with 6 colums"
   ]
  },
  {
   "cell_type": "code",
   "execution_count": 40,
   "metadata": {},
   "outputs": [],
   "source": [
    "arr2d = np.random.normal(loc=50,scale=20,size=(100,6))"
   ]
  },
  {
   "cell_type": "markdown",
   "metadata": {},
   "source": [
    "### Converting into Pandas.DataFrame"
   ]
  },
  {
   "cell_type": "code",
   "execution_count": 41,
   "metadata": {},
   "outputs": [
    {
     "data": {
      "text/html": [
       "<div>\n",
       "<style scoped>\n",
       "    .dataframe tbody tr th:only-of-type {\n",
       "        vertical-align: middle;\n",
       "    }\n",
       "\n",
       "    .dataframe tbody tr th {\n",
       "        vertical-align: top;\n",
       "    }\n",
       "\n",
       "    .dataframe thead th {\n",
       "        text-align: right;\n",
       "    }\n",
       "</style>\n",
       "<table border=\"1\" class=\"dataframe\">\n",
       "  <thead>\n",
       "    <tr style=\"text-align: right;\">\n",
       "      <th></th>\n",
       "      <th>A</th>\n",
       "      <th>B</th>\n",
       "      <th>C</th>\n",
       "      <th>X</th>\n",
       "      <th>Y</th>\n",
       "      <th>Z</th>\n",
       "    </tr>\n",
       "  </thead>\n",
       "  <tbody>\n",
       "    <tr>\n",
       "      <th>0</th>\n",
       "      <td>58.710856</td>\n",
       "      <td>15.317960</td>\n",
       "      <td>72.843096</td>\n",
       "      <td>42.245582</td>\n",
       "      <td>69.834395</td>\n",
       "      <td>41.778444</td>\n",
       "    </tr>\n",
       "    <tr>\n",
       "      <th>1</th>\n",
       "      <td>78.131815</td>\n",
       "      <td>71.015833</td>\n",
       "      <td>66.347291</td>\n",
       "      <td>36.363491</td>\n",
       "      <td>28.605164</td>\n",
       "      <td>62.673868</td>\n",
       "    </tr>\n",
       "    <tr>\n",
       "      <th>2</th>\n",
       "      <td>46.746126</td>\n",
       "      <td>67.411500</td>\n",
       "      <td>28.271757</td>\n",
       "      <td>33.091815</td>\n",
       "      <td>41.286011</td>\n",
       "      <td>28.634902</td>\n",
       "    </tr>\n",
       "    <tr>\n",
       "      <th>3</th>\n",
       "      <td>65.053473</td>\n",
       "      <td>69.401053</td>\n",
       "      <td>21.639138</td>\n",
       "      <td>56.206831</td>\n",
       "      <td>30.162025</td>\n",
       "      <td>54.883800</td>\n",
       "    </tr>\n",
       "    <tr>\n",
       "      <th>4</th>\n",
       "      <td>32.433585</td>\n",
       "      <td>33.263866</td>\n",
       "      <td>61.892403</td>\n",
       "      <td>9.827508</td>\n",
       "      <td>54.399105</td>\n",
       "      <td>13.499707</td>\n",
       "    </tr>\n",
       "    <tr>\n",
       "      <th>...</th>\n",
       "      <td>...</td>\n",
       "      <td>...</td>\n",
       "      <td>...</td>\n",
       "      <td>...</td>\n",
       "      <td>...</td>\n",
       "      <td>...</td>\n",
       "    </tr>\n",
       "    <tr>\n",
       "      <th>95</th>\n",
       "      <td>54.050721</td>\n",
       "      <td>51.534146</td>\n",
       "      <td>62.578454</td>\n",
       "      <td>59.231083</td>\n",
       "      <td>48.197373</td>\n",
       "      <td>81.563752</td>\n",
       "    </tr>\n",
       "    <tr>\n",
       "      <th>96</th>\n",
       "      <td>59.294836</td>\n",
       "      <td>41.542430</td>\n",
       "      <td>47.010139</td>\n",
       "      <td>45.596685</td>\n",
       "      <td>100.003168</td>\n",
       "      <td>49.709128</td>\n",
       "    </tr>\n",
       "    <tr>\n",
       "      <th>97</th>\n",
       "      <td>51.409762</td>\n",
       "      <td>40.060222</td>\n",
       "      <td>69.585104</td>\n",
       "      <td>27.876537</td>\n",
       "      <td>51.392292</td>\n",
       "      <td>59.795146</td>\n",
       "    </tr>\n",
       "    <tr>\n",
       "      <th>98</th>\n",
       "      <td>73.152957</td>\n",
       "      <td>61.403341</td>\n",
       "      <td>46.404172</td>\n",
       "      <td>82.465353</td>\n",
       "      <td>57.880325</td>\n",
       "      <td>44.925127</td>\n",
       "    </tr>\n",
       "    <tr>\n",
       "      <th>99</th>\n",
       "      <td>41.097374</td>\n",
       "      <td>68.411343</td>\n",
       "      <td>56.804134</td>\n",
       "      <td>25.950687</td>\n",
       "      <td>48.031314</td>\n",
       "      <td>51.113829</td>\n",
       "    </tr>\n",
       "  </tbody>\n",
       "</table>\n",
       "<p>100 rows × 6 columns</p>\n",
       "</div>"
      ],
      "text/plain": [
       "            A          B          C          X           Y          Z\n",
       "0   58.710856  15.317960  72.843096  42.245582   69.834395  41.778444\n",
       "1   78.131815  71.015833  66.347291  36.363491   28.605164  62.673868\n",
       "2   46.746126  67.411500  28.271757  33.091815   41.286011  28.634902\n",
       "3   65.053473  69.401053  21.639138  56.206831   30.162025  54.883800\n",
       "4   32.433585  33.263866  61.892403   9.827508   54.399105  13.499707\n",
       "..        ...        ...        ...        ...         ...        ...\n",
       "95  54.050721  51.534146  62.578454  59.231083   48.197373  81.563752\n",
       "96  59.294836  41.542430  47.010139  45.596685  100.003168  49.709128\n",
       "97  51.409762  40.060222  69.585104  27.876537   51.392292  59.795146\n",
       "98  73.152957  61.403341  46.404172  82.465353   57.880325  44.925127\n",
       "99  41.097374  68.411343  56.804134  25.950687   48.031314  51.113829\n",
       "\n",
       "[100 rows x 6 columns]"
      ]
     },
     "execution_count": 41,
     "metadata": {},
     "output_type": "execute_result"
    }
   ],
   "source": [
    "df_raw = pd.DataFrame(arr2d,columns=['A','B','C','X','Y','Z'])\n",
    "df_raw"
   ]
  },
  {
   "cell_type": "markdown",
   "metadata": {},
   "source": [
    "### Melting the data"
   ]
  },
  {
   "cell_type": "code",
   "execution_count": 42,
   "metadata": {},
   "outputs": [
    {
     "name": "stderr",
     "output_type": "stream",
     "text": [
      "C:\\Users\\zaf4-PC\\AppData\\Local\\Temp\\ipykernel_12264\\488904585.py:1: FutureWarning: This dataframe has a column name that matches the 'value_name' column name of the resulting Dataframe. In the future this will raise an error, please set the 'value_name' parameter of DataFrame.melt to a unique name.\n",
      "  df = pd.melt(df,value_name='value',var_name = 'name')\n"
     ]
    },
    {
     "data": {
      "text/html": [
       "<div>\n",
       "<style scoped>\n",
       "    .dataframe tbody tr th:only-of-type {\n",
       "        vertical-align: middle;\n",
       "    }\n",
       "\n",
       "    .dataframe tbody tr th {\n",
       "        vertical-align: top;\n",
       "    }\n",
       "\n",
       "    .dataframe thead th {\n",
       "        text-align: right;\n",
       "    }\n",
       "</style>\n",
       "<table border=\"1\" class=\"dataframe\">\n",
       "  <thead>\n",
       "    <tr style=\"text-align: right;\">\n",
       "      <th></th>\n",
       "      <th>name</th>\n",
       "      <th>value</th>\n",
       "    </tr>\n",
       "  </thead>\n",
       "  <tbody>\n",
       "    <tr>\n",
       "      <th>0</th>\n",
       "      <td>name</td>\n",
       "      <td>name</td>\n",
       "    </tr>\n",
       "    <tr>\n",
       "      <th>1</th>\n",
       "      <td>name</td>\n",
       "      <td>name</td>\n",
       "    </tr>\n",
       "    <tr>\n",
       "      <th>2</th>\n",
       "      <td>name</td>\n",
       "      <td>name</td>\n",
       "    </tr>\n",
       "    <tr>\n",
       "      <th>3</th>\n",
       "      <td>name</td>\n",
       "      <td>name</td>\n",
       "    </tr>\n",
       "    <tr>\n",
       "      <th>4</th>\n",
       "      <td>name</td>\n",
       "      <td>name</td>\n",
       "    </tr>\n",
       "    <tr>\n",
       "      <th>...</th>\n",
       "      <td>...</td>\n",
       "      <td>...</td>\n",
       "    </tr>\n",
       "    <tr>\n",
       "      <th>2395</th>\n",
       "      <td>value</td>\n",
       "      <td>15.909683</td>\n",
       "    </tr>\n",
       "    <tr>\n",
       "      <th>2396</th>\n",
       "      <td>value</td>\n",
       "      <td>53.39438</td>\n",
       "    </tr>\n",
       "    <tr>\n",
       "      <th>2397</th>\n",
       "      <td>value</td>\n",
       "      <td>96.407269</td>\n",
       "    </tr>\n",
       "    <tr>\n",
       "      <th>2398</th>\n",
       "      <td>value</td>\n",
       "      <td>53.630229</td>\n",
       "    </tr>\n",
       "    <tr>\n",
       "      <th>2399</th>\n",
       "      <td>value</td>\n",
       "      <td>77.365942</td>\n",
       "    </tr>\n",
       "  </tbody>\n",
       "</table>\n",
       "<p>2400 rows × 2 columns</p>\n",
       "</div>"
      ],
      "text/plain": [
       "       name      value\n",
       "0      name       name\n",
       "1      name       name\n",
       "2      name       name\n",
       "3      name       name\n",
       "4      name       name\n",
       "...     ...        ...\n",
       "2395  value  15.909683\n",
       "2396  value   53.39438\n",
       "2397  value  96.407269\n",
       "2398  value  53.630229\n",
       "2399  value  77.365942\n",
       "\n",
       "[2400 rows x 2 columns]"
      ]
     },
     "execution_count": 42,
     "metadata": {},
     "output_type": "execute_result"
    }
   ],
   "source": [
    "df = pd.melt(df_raw,value_name='value',var_name = 'name')\n",
    "df"
   ]
  },
  {
   "cell_type": "markdown",
   "metadata": {},
   "source": [
    "### we can save the both raw and melted (final) data"
   ]
  },
  {
   "cell_type": "code",
   "execution_count": 43,
   "metadata": {},
   "outputs": [],
   "source": [
    "df_raw.to_csv(\"../data/raw/raw_data.csv\",index=False)\n",
    "df.to_csv(\"../data/final/final_data.csv\",index=False)"
   ]
  },
  {
   "cell_type": "markdown",
   "metadata": {},
   "source": [
    "**Boxlot:** this data set ideal for visualization with boxplots"
   ]
  },
  {
   "cell_type": "code",
   "execution_count": 44,
   "metadata": {},
   "outputs": [
    {
     "data": {
      "text/html": [
       "   <div id=\"RHH7AC\"></div>\n",
       "   <script type=\"text/javascript\" data-lets-plot-script=\"plot\">\n",
       "       (function() {\n",
       "           var plotSpec={\n",
       "\"data\":{\n",
       "},\n",
       "\"mapping\":{\n",
       "\"x\":\"name\",\n",
       "\"y\":\"value\",\n",
       "\"fill\":\"name\"\n",
       "},\n",
       "\"data_meta\":{\n",
       "},\n",
       "\"ggsize\":{\n",
       "\"width\":600.0,\n",
       "\"height\":400.0\n",
       "},\n",
       "\"theme\":{\n",
       "\"name\":\"classic\",\n",
       "\"geom\":{\n",
       "\"pen\":\"#333333\"\n",
       "}\n",
       "},\n",
       "\"kind\":\"plot\",\n",
       "\"scales\":[{\n",
       "\"aesthetic\":\"fill\",\n",
       "\"palette\":\"Set2\",\n",
       "\"scale_mapper_kind\":\"color_brewer\"\n",
       "}],\n",
       "\"layers\":[{\n",
       "\"geom\":\"boxplot\",\n",
       "\"mapping\":{\n",
       "},\n",
       "\"data_meta\":{\n",
       "},\n",
       "\"data\":{\n",
       "\"..middle..\":[\"value\",61.822272759071275],\n",
       "\"..lower..\":[\"name\",\"X\"],\n",
       "\"..upper..\":[\"value\",41.41090139812961],\n",
       "\"..ymin..\":[\"name\",\"A\"],\n",
       "\"..ymax..\":[\"value\",77.36594151496003],\n",
       "\"name\":[\"name\",\"value\"]\n",
       "}\n",
       "},{\n",
       "\"geom\":\"point\",\n",
       "\"stat\":\"boxplot_outlier\",\n",
       "\"mapping\":{\n",
       "},\n",
       "\"show_legend\":false,\n",
       "\"data_meta\":{\n",
       "},\n",
       "\"data\":{\n",
       "\"..middle..\":[\"value\",61.822272759071275],\n",
       "\"..lower..\":[\"name\",\"X\"],\n",
       "\"..upper..\":[\"value\",41.41090139812961],\n",
       "\"..ymin..\":[\"name\",\"A\"],\n",
       "\"..ymax..\":[\"value\",77.36594151496003],\n",
       "\"name\":[\"name\",\"value\"],\n",
       "\"value\":[null,null]\n",
       "}\n",
       "}],\n",
       "\"metainfo_list\":[]\n",
       "};\n",
       "           var plotContainer = document.getElementById(\"RHH7AC\");\n",
       "           window.letsPlotCall(function() {{\n",
       "               LetsPlot.buildPlotFromProcessedSpecs(plotSpec, -1, -1, plotContainer);\n",
       "           }});\n",
       "       })();    \n",
       "   </script>"
      ],
      "text/plain": [
       "<lets_plot.plot.core.PlotSpec at 0x17e0af81250>"
      ]
     },
     "execution_count": 44,
     "metadata": {},
     "output_type": "execute_result"
    }
   ],
   "source": [
    "boxplot = (ggplot(df,aes('name','value',fill='name'))+ggsize(600,400)+\n",
    "      geom_boxplot()+\n",
    "      scale_fill_brewer(palette=\"Set2\")+\n",
    "      theme_classic()+\n",
    "      theme(geom=element_geom(pen='#333333'))\n",
    ")\n",
    "boxplot"
   ]
  },
  {
   "cell_type": "markdown",
   "metadata": {},
   "source": [
    "**Violinplot:** this dataset can also be visualized in vioin plot"
   ]
  },
  {
   "cell_type": "code",
   "execution_count": 45,
   "metadata": {},
   "outputs": [
    {
     "data": {
      "text/html": [
       "   <div id=\"awqci5\"></div>\n",
       "   <script type=\"text/javascript\" data-lets-plot-script=\"plot\">\n",
       "       (function() {\n",
       "           var plotSpec={\n",
       "\"data\":{\n",
       "},\n",
       "\"mapping\":{\n",
       "\"x\":\"name\",\n",
       "\"y\":\"value\",\n",
       "\"fill\":\"name\"\n",
       "},\n",
       "\"data_meta\":{\n",
       "},\n",
       "\"ggsize\":{\n",
       "\"width\":600.0,\n",
       "\"height\":400.0\n",
       "},\n",
       "\"theme\":{\n",
       "\"name\":\"classic\",\n",
       "\"geom\":{\n",
       "\"pen\":\"#333333\"\n",
       "}\n",
       "},\n",
       "\"kind\":\"plot\",\n",
       "\"scales\":[{\n",
       "\"aesthetic\":\"fill\",\n",
       "\"palette\":\"Set2\",\n",
       "\"scale_mapper_kind\":\"color_brewer\"\n",
       "}],\n",
       "\"layers\":[{\n",
       "\"geom\":\"violin\",\n",
       "\"mapping\":{\n",
       "},\n",
       "\"data_meta\":{\n",
       "},\n",
       "\"trim\":false,\n",
       "\"data\":{\n",
       "\"..quantile..\":[0.25,0.25,0.25,0.25,0.25,0.25,0.25,0.25,0.25,0.25,0.25,0.25,0.25,0.25,0.25,0.25,0.25,0.25,0.25,0.25,0.25,0.25,0.25,0.25,0.25,0.25,0.25,0.25,0.25,0.25,0.25,0.25,0.25,0.25,0.25,0.25,0.25,0.25,0.25,0.25,0.25,0.25,0.25,0.25,0.25,0.25,0.25,0.25,0.25,0.25,0.25,0.25,0.25,0.25,0.25,0.25,0.25,0.25,0.25,0.25,0.25,0.25,0.25,0.25,0.25,0.25,0.25,0.25,0.25,0.25,0.25,0.25,0.25,0.25,0.25,0.25,0.25,0.25,0.25,0.25,0.25,0.25,0.25,0.25,0.25,0.25,0.25,0.25,0.25,0.25,0.25,0.25,0.25,0.25,0.25,0.25,0.25,0.25,0.25,0.25,0.25,0.5,0.5,0.5,0.5,0.5,0.5,0.5,0.5,0.5,0.5,0.5,0.5,0.5,0.5,0.5,0.5,0.5,0.5,0.5,0.5,0.5,0.5,0.5,0.5,0.5,0.5,0.5,0.5,0.5,0.5,0.5,0.5,0.5,0.5,0.5,0.5,0.5,0.5,0.5,0.5,0.5,0.5,0.5,0.5,0.5,0.5,0.5,0.5,0.5,0.5,0.5,0.5,0.5,0.5,0.5,0.5,0.5,0.5,0.5,0.5,0.5,0.5,0.5,0.5,0.5,0.5,0.5,0.5,0.5,0.5,0.5,0.5,0.5,0.5,0.5,0.5,0.5,0.5,0.5,0.5,0.5,0.5,0.5,0.5,0.5,0.5,0.5,0.5,0.5,0.5,0.5,0.5,0.5,0.5,0.5,0.5,0.5,0.5,0.5,0.5,0.5,0.5,0.5,0.5,0.5,0.5,0.5,0.5,0.5,0.5,0.5,0.5,0.5,0.5,0.5,0.5,0.5,0.5,0.5,0.5,0.5,0.5,0.5,0.5,0.5,0.5,0.5,0.5,0.5,0.5,0.5,0.5,0.5,0.5,0.5,0.5,0.5,0.5,0.5,0.5,0.5,0.5,0.5,0.5,0.5,0.5,0.5,0.5,0.5,0.5,0.5,0.5,0.5,0.5,0.5,0.5,0.75,0.75,0.75,0.75,0.75,0.75,0.75,0.75,0.75,0.75,0.75,0.75,0.75,0.75,0.75,0.75,0.75,0.75,0.75,0.75,0.75,0.75,0.75,0.75,0.75,0.75,0.75,0.75,0.75,0.75,0.75,0.75,0.75,0.75,0.75,0.75,0.75,0.75,0.75,0.75,0.75,0.75,0.75,0.75,0.75,0.75,0.75,0.75,0.75,0.75,0.75,0.75,0.75,0.75,0.75,0.75,0.75,0.75,0.75,0.75,0.75,0.75,0.75,0.75,0.75,0.75,0.75,0.75,0.75,0.75,0.75,0.75,0.75,0.75,0.75,0.75,0.75,0.75,0.75,0.75,0.75,0.75,0.75,0.75,0.75,0.75,0.75,0.75,0.75,0.75,0.75,0.75,0.75,0.75,0.75,0.75,0.75,0.75,0.75,0.75,0.75,0.75,0.75,0.75,0.75,0.75,0.75,0.75,0.75,0.75,0.75,0.75,0.75,0.75,0.75,0.75,0.75,0.75,0.75,0.75,0.75,0.75,0.75,0.75,0.75,0.75,0.75,0.75,0.75,0.75,0.75,0.75,0.75,0.75,0.75,0.75,0.75,0.75,0.75,0.75,0.75,0.75,0.75,0.75,0.75,0.75,0.75,0.75,0.75,0.75,0.75,0.75,0.75,0.75,0.75,1.0,1.0,1.0,1.0,1.0,1.0,1.0,1.0,1.0,1.0,1.0,1.0,1.0,1.0,1.0,1.0,1.0,1.0,1.0,1.0,1.0,1.0,1.0,1.0,1.0,1.0,1.0,1.0,1.0,1.0,1.0,1.0,1.0,1.0,1.0,1.0,1.0,1.0,1.0,1.0,1.0,1.0,1.0,1.0,1.0,1.0,1.0,1.0,1.0,1.0,1.0,1.0,1.0,1.0,1.0,1.0,1.0,1.0,1.0,1.0,1.0,1.0,1.0,1.0,1.0,1.0,1.0,1.0,1.0,1.0,1.0,1.0,1.0,1.0,1.0,1.0,1.0,1.0,1.0,1.0,1.0,1.0,1.0,1.0,1.0,1.0,1.0,1.0,1.0,1.0,1.0,1.0,1.0,1.0,1.0,1.0,1.0,1.0,1.0,1.0,1.0,1.0,1.0,0.25,0.25,0.25,0.25,0.25,0.25,0.25,0.25,0.25,0.25,0.25,0.25,0.25,0.25,0.25,0.25,0.25,0.25,0.25,0.25,0.25,0.25,0.25,0.25,0.25,0.25,0.25,0.25,0.25,0.25,0.25,0.25,0.25,0.25,0.25,0.25,0.25,0.25,0.25,0.25,0.25,0.25,0.25,0.25,0.25,0.25,0.25,0.25,0.25,0.25,0.25,0.25,0.25,0.25,0.25,0.25,0.25,0.25,0.25,0.25,0.25,0.25,0.25,0.25,0.25,0.25,0.25,0.25,0.25,0.25,0.25,0.25,0.25,0.25,0.25,0.25,0.5,0.5,0.5,0.5,0.5,0.5,0.5,0.5,0.5,0.5,0.5,0.5,0.5,0.5,0.5,0.5,0.5,0.5,0.5,0.5,0.5,0.5,0.5,0.5,0.5,0.5,0.5,0.5,0.5,0.5,0.5,0.5,0.5,0.5,0.5,0.5,0.75,0.75,0.75,0.75,0.75,0.75,0.75,0.75,0.75,0.75,0.75,0.75,0.75,0.75,0.75,0.75,0.75,0.75,0.75,0.75,0.75,0.75,0.75,0.75,0.75,0.75,0.75,0.75,0.75,0.75,0.75,0.75,0.75,0.75,0.75,0.75,0.75,0.75,0.75,0.75,0.75,0.75,0.75,0.75,0.75,0.75,0.75,0.75,0.75,0.75,0.75,0.75,0.75,0.75,0.75,0.75,0.75,0.75,0.75,0.75,0.75,0.75,0.75,0.75,0.75,0.75,0.75,0.75,0.75,0.75,0.75,0.75,0.75,0.75,0.75,0.75,0.75,0.75,0.75,0.75,0.75,0.75,0.75,0.75,0.75,0.75,0.75,0.75,0.75,0.75,0.75,0.75,0.75,0.75,0.75,0.75,0.75,0.75,0.75,0.75,0.75,0.75,0.75,0.75,0.75,0.75,0.75,0.75,0.75,0.75,0.75,0.75,0.75,0.75,0.75,0.75,0.75,0.75,0.75,0.75,0.75,0.75,0.75,0.75,0.75,0.75,0.75,0.75,0.75,0.75,0.75,0.75,0.75,0.75,0.75,0.75,0.75,0.75,0.75,0.75,0.75,0.75,0.75,0.75,0.75,0.75,0.75,1.0,1.0,1.0,1.0,1.0,1.0,1.0,1.0,1.0,1.0,1.0,1.0,1.0,1.0,1.0,1.0,1.0,1.0,1.0,1.0,1.0,1.0,1.0,1.0,1.0,1.0,1.0,1.0,1.0,1.0,1.0,1.0,1.0,1.0,1.0,1.0,1.0,1.0,1.0,1.0,1.0,1.0,1.0,1.0,1.0,1.0,1.0,1.0,1.0,1.0,1.0,1.0,1.0,1.0,1.0,1.0,1.0,1.0,1.0,1.0,1.0,1.0,1.0,1.0,1.0,1.0,1.0,1.0,1.0,1.0,1.0,1.0,1.0,1.0,1.0,1.0,1.0,1.0,1.0,1.0,1.0,1.0,1.0,1.0,1.0,1.0,1.0,1.0,1.0,1.0,1.0,1.0,1.0,1.0,1.0,1.0,1.0,1.0,1.0,1.0,1.0,1.0,1.0,1.0,1.0,1.0,1.0,1.0,1.0,1.0,1.0,1.0,1.0,1.0,1.0,1.0,1.0,1.0,1.0,1.0,1.0,1.0,1.0,1.0,1.0,1.0,1.0,1.0,1.0,1.0,1.0,1.0,1.0,1.0,1.0,1.0,1.0,1.0,1.0,1.0,1.0,1.0,1.0,1.0,1.0,1.0,1.0,1.0,1.0,1.0,1.0,1.0,1.0,1.0,1.0,1.0,1.0,1.0,1.0,1.0,1.0,1.0,1.0,1.0,1.0,1.0,1.0,1.0,1.0,1.0,1.0,1.0,1.0,1.0,1.0,1.0,1.0,1.0,1.0,1.0,1.0,1.0,1.0,1.0,1.0,1.0,1.0,1.0,1.0,1.0,1.0,1.0,1.0,1.0,1.0,1.0,1.0,1.0,1.0,1.0,1.0,1.0,1.0,1.0,1.0,1.0,1.0,1.0,1.0,1.0,1.0,1.0,1.0,1.0,1.0,1.0,1.0,1.0,1.0,1.0,1.0,1.0,1.0,1.0,1.0,1.0,1.0,1.0,1.0,1.0,1.0,1.0,1.0,1.0,1.0,1.0,1.0,1.0,1.0,1.0,1.0,1.0,1.0,1.0,1.0,1.0,1.0,1.0,1.0,1.0,1.0,1.0,1.0,1.0,1.0,1.0],\n",
       "\"name\":[\"name\",\"name\",\"name\",\"name\",\"name\",\"name\",\"name\",\"name\",\"name\",\"name\",\"name\",\"name\",\"name\",\"name\",\"name\",\"name\",\"name\",\"name\",\"name\",\"name\",\"name\",\"name\",\"name\",\"name\",\"name\",\"name\",\"name\",\"name\",\"name\",\"name\",\"name\",\"name\",\"name\",\"name\",\"name\",\"name\",\"name\",\"name\",\"name\",\"name\",\"name\",\"name\",\"name\",\"name\",\"name\",\"name\",\"name\",\"name\",\"name\",\"name\",\"name\",\"name\",\"name\",\"name\",\"name\",\"name\",\"name\",\"name\",\"name\",\"name\",\"name\",\"name\",\"name\",\"name\",\"name\",\"name\",\"name\",\"name\",\"name\",\"name\",\"name\",\"name\",\"name\",\"name\",\"name\",\"name\",\"name\",\"name\",\"name\",\"name\",\"name\",\"name\",\"name\",\"name\",\"name\",\"name\",\"name\",\"name\",\"name\",\"name\",\"name\",\"name\",\"name\",\"name\",\"name\",\"name\",\"name\",\"name\",\"name\",\"name\",\"name\",\"name\",\"name\",\"name\",\"name\",\"name\",\"name\",\"name\",\"name\",\"name\",\"name\",\"name\",\"name\",\"name\",\"name\",\"name\",\"name\",\"name\",\"name\",\"name\",\"name\",\"name\",\"name\",\"name\",\"name\",\"name\",\"name\",\"name\",\"name\",\"name\",\"name\",\"name\",\"name\",\"name\",\"name\",\"name\",\"name\",\"name\",\"name\",\"name\",\"name\",\"name\",\"name\",\"name\",\"name\",\"name\",\"name\",\"name\",\"name\",\"name\",\"name\",\"name\",\"name\",\"name\",\"name\",\"name\",\"name\",\"name\",\"name\",\"name\",\"name\",\"name\",\"name\",\"name\",\"name\",\"name\",\"name\",\"name\",\"name\",\"name\",\"name\",\"name\",\"name\",\"name\",\"name\",\"name\",\"name\",\"name\",\"name\",\"name\",\"name\",\"name\",\"name\",\"name\",\"name\",\"name\",\"name\",\"name\",\"name\",\"name\",\"name\",\"name\",\"name\",\"name\",\"name\",\"name\",\"name\",\"name\",\"name\",\"name\",\"name\",\"name\",\"name\",\"name\",\"name\",\"name\",\"name\",\"name\",\"name\",\"name\",\"name\",\"name\",\"name\",\"name\",\"name\",\"name\",\"name\",\"name\",\"name\",\"name\",\"name\",\"name\",\"name\",\"name\",\"name\",\"name\",\"name\",\"name\",\"name\",\"name\",\"name\",\"name\",\"name\",\"name\",\"name\",\"name\",\"name\",\"name\",\"name\",\"name\",\"name\",\"name\",\"name\",\"name\",\"name\",\"name\",\"name\",\"name\",\"name\",\"name\",\"name\",\"name\",\"name\",\"name\",\"name\",\"name\",\"name\",\"name\",\"name\",\"name\",\"name\",\"name\",\"name\",\"name\",\"name\",\"name\",\"name\",\"name\",\"name\",\"name\",\"name\",\"name\",\"name\",\"name\",\"name\",\"name\",\"name\",\"name\",\"name\",\"name\",\"name\",\"name\",\"name\",\"name\",\"name\",\"name\",\"name\",\"name\",\"name\",\"name\",\"name\",\"name\",\"name\",\"name\",\"name\",\"name\",\"name\",\"name\",\"name\",\"name\",\"name\",\"name\",\"name\",\"name\",\"name\",\"name\",\"name\",\"name\",\"name\",\"name\",\"name\",\"name\",\"name\",\"name\",\"name\",\"name\",\"name\",\"name\",\"name\",\"name\",\"name\",\"name\",\"name\",\"name\",\"name\",\"name\",\"name\",\"name\",\"name\",\"name\",\"name\",\"name\",\"name\",\"name\",\"name\",\"name\",\"name\",\"name\",\"name\",\"name\",\"name\",\"name\",\"name\",\"name\",\"name\",\"name\",\"name\",\"name\",\"name\",\"name\",\"name\",\"name\",\"name\",\"name\",\"name\",\"name\",\"name\",\"name\",\"name\",\"name\",\"name\",\"name\",\"name\",\"name\",\"name\",\"name\",\"name\",\"name\",\"name\",\"name\",\"name\",\"name\",\"name\",\"name\",\"name\",\"name\",\"name\",\"name\",\"name\",\"name\",\"name\",\"name\",\"name\",\"name\",\"name\",\"name\",\"name\",\"name\",\"name\",\"name\",\"name\",\"name\",\"name\",\"name\",\"name\",\"name\",\"name\",\"name\",\"name\",\"name\",\"name\",\"name\",\"name\",\"name\",\"name\",\"name\",\"name\",\"name\",\"name\",\"name\",\"name\",\"name\",\"name\",\"name\",\"name\",\"name\",\"name\",\"name\",\"name\",\"name\",\"name\",\"name\",\"name\",\"name\",\"name\",\"name\",\"name\",\"name\",\"name\",\"name\",\"name\",\"name\",\"name\",\"name\",\"name\",\"name\",\"name\",\"name\",\"name\",\"name\",\"name\",\"name\",\"name\",\"name\",\"name\",\"name\",\"name\",\"name\",\"name\",\"name\",\"name\",\"name\",\"name\",\"name\",\"name\",\"name\",\"name\",\"name\",\"name\",\"name\",\"name\",\"name\",\"name\",\"name\",\"name\",\"name\",\"name\",\"name\",\"name\",\"name\",\"name\",\"name\",\"name\",\"name\",\"name\",\"name\",\"name\",\"name\",\"name\",\"name\",\"name\",\"name\",\"name\",\"name\",\"name\",\"name\",\"name\",\"name\",\"name\",\"name\",\"name\",\"name\",\"name\",\"name\",\"name\",\"name\",\"name\",\"name\",\"name\",\"name\",\"name\",\"name\",\"name\",\"name\",\"name\",\"name\",\"name\",\"name\",\"name\",\"name\",\"name\",\"name\",\"name\",\"name\",\"name\",\"value\",\"value\",\"value\",\"value\",\"value\",\"value\",\"value\",\"value\",\"value\",\"value\",\"value\",\"value\",\"value\",\"value\",\"value\",\"value\",\"value\",\"value\",\"value\",\"value\",\"value\",\"value\",\"value\",\"value\",\"value\",\"value\",\"value\",\"value\",\"value\",\"value\",\"value\",\"value\",\"value\",\"value\",\"value\",\"value\",\"value\",\"value\",\"value\",\"value\",\"value\",\"value\",\"value\",\"value\",\"value\",\"value\",\"value\",\"value\",\"value\",\"value\",\"value\",\"value\",\"value\",\"value\",\"value\",\"value\",\"value\",\"value\",\"value\",\"value\",\"value\",\"value\",\"value\",\"value\",\"value\",\"value\",\"value\",\"value\",\"value\",\"value\",\"value\",\"value\",\"value\",\"value\",\"value\",\"value\",\"value\",\"value\",\"value\",\"value\",\"value\",\"value\",\"value\",\"value\",\"value\",\"value\",\"value\",\"value\",\"value\",\"value\",\"value\",\"value\",\"value\",\"value\",\"value\",\"value\",\"value\",\"value\",\"value\",\"value\",\"value\",\"value\",\"value\",\"value\",\"value\",\"value\",\"value\",\"value\",\"value\",\"value\",\"value\",\"value\",\"value\",\"value\",\"value\",\"value\",\"value\",\"value\",\"value\",\"value\",\"value\",\"value\",\"value\",\"value\",\"value\",\"value\",\"value\",\"value\",\"value\",\"value\",\"value\",\"value\",\"value\",\"value\",\"value\",\"value\",\"value\",\"value\",\"value\",\"value\",\"value\",\"value\",\"value\",\"value\",\"value\",\"value\",\"value\",\"value\",\"value\",\"value\",\"value\",\"value\",\"value\",\"value\",\"value\",\"value\",\"value\",\"value\",\"value\",\"value\",\"value\",\"value\",\"value\",\"value\",\"value\",\"value\",\"value\",\"value\",\"value\",\"value\",\"value\",\"value\",\"value\",\"value\",\"value\",\"value\",\"value\",\"value\",\"value\",\"value\",\"value\",\"value\",\"value\",\"value\",\"value\",\"value\",\"value\",\"value\",\"value\",\"value\",\"value\",\"value\",\"value\",\"value\",\"value\",\"value\",\"value\",\"value\",\"value\",\"value\",\"value\",\"value\",\"value\",\"value\",\"value\",\"value\",\"value\",\"value\",\"value\",\"value\",\"value\",\"value\",\"value\",\"value\",\"value\",\"value\",\"value\",\"value\",\"value\",\"value\",\"value\",\"value\",\"value\",\"value\",\"value\",\"value\",\"value\",\"value\",\"value\",\"value\",\"value\",\"value\",\"value\",\"value\",\"value\",\"value\",\"value\",\"value\",\"value\",\"value\",\"value\",\"value\",\"value\",\"value\",\"value\",\"value\",\"value\",\"value\",\"value\",\"value\",\"value\",\"value\",\"value\",\"value\",\"value\",\"value\",\"value\",\"value\",\"value\",\"value\",\"value\",\"value\",\"value\",\"value\",\"value\",\"value\",\"value\",\"value\",\"value\",\"value\",\"value\",\"value\",\"value\",\"value\",\"value\",\"value\",\"value\",\"value\",\"value\",\"value\",\"value\",\"value\",\"value\",\"value\",\"value\",\"value\",\"value\",\"value\",\"value\",\"value\",\"value\",\"value\",\"value\",\"value\",\"value\",\"value\",\"value\",\"value\",\"value\",\"value\",\"value\",\"value\",\"value\",\"value\",\"value\",\"value\",\"value\",\"value\",\"value\",\"value\",\"value\",\"value\",\"value\",\"value\",\"value\",\"value\",\"value\",\"value\",\"value\",\"value\",\"value\",\"value\",\"value\",\"value\",\"value\",\"value\",\"value\",\"value\",\"value\",\"value\",\"value\",\"value\",\"value\",\"value\",\"value\",\"value\",\"value\",\"value\",\"value\",\"value\",\"value\",\"value\",\"value\",\"value\",\"value\",\"value\",\"value\",\"value\",\"value\",\"value\",\"value\",\"value\",\"value\",\"value\",\"value\",\"value\",\"value\",\"value\",\"value\",\"value\",\"value\",\"value\",\"value\",\"value\",\"value\",\"value\",\"value\",\"value\",\"value\",\"value\",\"value\",\"value\",\"value\",\"value\",\"value\",\"value\",\"value\",\"value\",\"value\",\"value\",\"value\",\"value\",\"value\",\"value\",\"value\",\"value\",\"value\",\"value\",\"value\",\"value\",\"value\",\"value\",\"value\",\"value\",\"value\",\"value\",\"value\",\"value\",\"value\",\"value\",\"value\",\"value\",\"value\",\"value\",\"value\",\"value\",\"value\",\"value\",\"value\",\"value\",\"value\",\"value\",\"value\",\"value\",\"value\",\"value\",\"value\",\"value\",\"value\",\"value\",\"value\",\"value\",\"value\",\"value\",\"value\",\"value\",\"value\",\"value\",\"value\",\"value\",\"value\",\"value\",\"value\",\"value\",\"value\",\"value\",\"value\",\"value\",\"value\",\"value\",\"value\",\"value\",\"value\",\"value\",\"value\",\"value\",\"value\",\"value\",\"value\",\"value\",\"value\",\"value\",\"value\",\"value\",\"value\",\"value\",\"value\",\"value\",\"value\",\"value\",\"value\",\"value\",\"value\",\"value\",\"value\",\"value\",\"value\",\"value\",\"value\",\"value\",\"value\",\"value\",\"value\",\"value\",\"value\",\"value\",\"value\",\"value\",\"value\",\"value\",\"value\",\"value\",\"value\",\"value\",\"value\",\"value\",\"value\",\"value\",\"value\",\"value\",\"value\",\"value\",\"value\",\"value\",\"value\",\"value\",\"value\",\"value\",\"value\",\"value\",\"value\",\"value\",\"value\",\"value\",\"value\",\"value\",\"value\",\"value\",\"value\",\"value\",\"value\",\"value\",\"value\",\"value\",\"value\"],\n",
       "\"value\":[\"name\",\"name\",\"name\",\"name\",\"name\",\"name\",\"name\",\"name\",\"name\",\"name\",\"name\",\"name\",\"name\",\"name\",\"name\",\"name\",\"name\",\"name\",\"name\",\"name\",\"name\",\"name\",\"name\",\"name\",\"name\",\"name\",\"name\",\"name\",\"name\",\"name\",\"name\",\"name\",\"name\",\"name\",\"name\",\"name\",\"name\",\"name\",\"name\",\"name\",\"name\",\"name\",\"name\",\"name\",\"name\",\"name\",\"name\",\"name\",\"name\",\"name\",\"name\",\"name\",\"name\",\"name\",\"name\",\"name\",\"name\",\"name\",\"name\",\"name\",\"name\",\"name\",\"name\",\"name\",\"name\",\"name\",\"name\",\"name\",\"name\",\"name\",\"name\",\"name\",\"name\",\"name\",\"name\",\"name\",\"name\",\"name\",\"name\",\"name\",\"name\",\"name\",\"name\",\"name\",\"name\",\"name\",\"name\",\"name\",\"name\",\"name\",\"name\",\"name\",\"name\",\"name\",\"name\",\"name\",\"name\",\"name\",\"name\",\"name\",\"name\",\"name\",\"name\",\"name\",\"name\",\"name\",\"name\",\"name\",\"name\",\"name\",\"name\",\"name\",\"name\",\"name\",\"name\",\"name\",\"name\",\"name\",\"name\",\"name\",\"name\",\"name\",\"name\",\"name\",\"name\",\"name\",\"name\",\"name\",\"name\",\"name\",\"name\",\"name\",\"name\",\"name\",\"name\",\"name\",\"name\",\"name\",\"name\",\"name\",\"name\",\"name\",\"name\",\"name\",\"name\",\"name\",\"name\",\"name\",\"name\",\"name\",\"name\",\"name\",\"name\",\"name\",\"name\",\"name\",\"name\",\"name\",\"name\",\"name\",\"name\",\"name\",\"name\",\"name\",\"name\",\"name\",\"name\",\"name\",\"name\",\"name\",\"name\",\"name\",\"name\",\"name\",\"name\",\"name\",\"name\",\"name\",\"name\",\"name\",\"name\",\"name\",\"name\",\"name\",\"name\",\"name\",\"name\",\"name\",\"name\",\"name\",\"name\",\"name\",\"name\",\"name\",\"name\",\"name\",\"name\",\"name\",\"name\",\"name\",\"name\",\"name\",\"name\",\"name\",\"name\",\"name\",\"name\",\"name\",\"name\",\"name\",\"name\",\"name\",\"name\",\"name\",\"name\",\"name\",\"name\",\"name\",\"name\",\"name\",\"name\",\"name\",\"name\",\"name\",\"name\",\"name\",\"name\",\"name\",\"name\",\"name\",\"name\",\"name\",\"name\",\"name\",\"name\",\"name\",\"name\",\"name\",\"name\",\"name\",\"name\",\"name\",\"name\",\"name\",\"name\",\"name\",\"name\",\"name\",\"name\",\"name\",\"name\",\"name\",\"name\",\"name\",\"name\",\"name\",\"name\",\"name\",\"value\",\"value\",\"value\",\"value\",\"value\",\"value\",\"value\",\"value\",\"value\",\"value\",\"value\",\"value\",\"value\",\"value\",\"value\",\"value\",\"value\",\"value\",\"value\",\"value\",\"value\",\"value\",\"value\",\"value\",\"value\",\"value\",\"value\",\"value\",\"value\",\"value\",\"value\",\"value\",\"value\",\"value\",\"value\",\"value\",\"value\",\"value\",\"value\",\"value\",\"value\",\"value\",\"value\",\"value\",\"value\",\"value\",\"value\",\"value\",\"value\",\"value\",\"value\",\"value\",\"value\",\"value\",\"value\",\"value\",\"value\",\"value\",\"value\",\"value\",\"value\",\"value\",\"value\",\"value\",\"value\",\"value\",\"value\",\"value\",\"value\",\"value\",\"value\",\"value\",\"value\",\"value\",\"value\",\"value\",\"value\",\"value\",\"value\",\"value\",\"value\",\"value\",\"value\",\"value\",\"value\",\"value\",\"value\",\"value\",\"value\",\"value\",\"value\",\"value\",\"value\",\"value\",\"value\",\"value\",\"value\",\"value\",\"value\",\"value\",\"value\",\"value\",\"value\",\"value\",\"value\",\"value\",\"value\",\"value\",\"value\",\"value\",\"value\",\"value\",\"value\",\"value\",\"value\",\"value\",\"value\",\"value\",\"value\",\"value\",\"value\",\"value\",\"value\",\"value\",\"value\",\"value\",\"value\",\"value\",\"value\",\"value\",\"value\",\"value\",\"value\",\"value\",\"value\",\"value\",\"value\",\"value\",\"value\",\"value\",\"value\",\"value\",\"value\",\"value\",\"value\",\"value\",\"value\",\"value\",\"value\",\"value\",\"value\",\"value\",\"value\",\"value\",\"value\",\"value\",\"value\",\"value\",\"value\",\"value\",\"value\",\"value\",\"value\",\"value\",\"value\",\"value\",\"value\",\"value\",\"value\",\"value\",\"value\",\"value\",\"value\",\"value\",\"value\",\"value\",\"value\",\"value\",\"value\",\"value\",\"value\",\"value\",\"value\",\"value\",\"value\",\"value\",\"value\",\"value\",\"value\",\"value\",\"value\",\"value\",\"value\",\"value\",\"value\",\"value\",\"value\",\"value\",\"value\",\"value\",\"value\",\"value\",\"value\",\"value\",\"value\",\"value\",\"value\",\"value\",\"value\",\"value\",\"value\",\"value\",\"value\",\"value\",\"value\",\"value\",\"value\",\"value\",\"value\",\"value\",\"value\",\"value\",\"value\",\"value\",\"value\",\"value\",\"value\",\"value\",\"value\",\"value\",\"value\",\"value\",\"value\",\"value\",\"value\",\"value\",\"value\",\"value\",\"value\",\"value\",\"value\",\"value\",\"value\",\"value\",\"value\",\"value\",\"value\",\"value\",\"value\",\"value\",\"value\",\"value\",\"value\",\"value\",\"value\",\"value\",\"value\",null,null,null,null,null,null,null,null,null,null,null,null,null,null,null,null,null,null,null,null,null,null,null,null,null,null,null,null,null,null,null,null,null,null,null,null,null,null,null,null,null,null,null,null,null,null,null,null,null,null,null,null,null,null,null,null,null,null,null,null,null,null,null,null,null,null,null,null,null,null,null,null,null,null,null,\"value\",\"value\",\"A\",\"C\",\"Y\",61.822272759071275,58.33270434538211,21.467148256608585,77.54499098841276,77.4900026551831,61.841549741008535,54.027571163965106,40.08728082209192,35.799381683887475,17.08126581681384,64.17692485664035,39.07850501920282,37.588198981287995,47.9418971615628,46.25949092272052,43.55172801872882,89.43664139311716,51.0286351990663,57.96320448306701,30.894883352091046,67.69815974892626,19.292529154734048,16.91253913087722,44.6085317690961,65.57861165799643,46.21539554629281,49.217164069758475,31.462287288830495,73.24482971512556,42.058584676621,49.027859854388474,60.48053338469202,60.48053338469202,80.59725002202975,91.15177239857019,51.46143012819402,-9.123809455808505,41.34358321908866,43.26187834114292,44.06103034476337,51.01365024946232,32.11252608539175,33.982522246938416,76.04926557748767,35.11488335316847,47.400106334364494,45.982657320911144,21.1155533734455,56.030703887485245,30.469069575671025,67.64164199996165,47.17321837693394,29.36254490832612,40.750651869943624,47.10871426360776,55.430081993553785,44.06281463246307,68.2149018889665,56.36539747270966,26.67602727905921,99.53089834849189,65.87649678156652,11.822273499423439,36.95367112779711,58.64353488560933,66.24388974979364,56.79654489433878,74.40995898192006,34.83225823585706,9.904937869956996,49.06688607187685,65.92549171127476,73.20960321078336,43.80839389458546,55.47803644461004,33.936217488456656,33.32499766609571,49.09819801109309,37.98868289910784,50.433257219611455,60.77076640802524,27.086246755098813,63.02878370316623,45.50469460742584,42.25106465108423,52.809605913505486,73.9995298357469,53.18310324489253,56.67821212074687,29.42104249875307,32.90917780247365,-3.03653079332787,43.85487173238836,34.56319455457432,64.45339118582879,29.64753439470339,40.98206683964678,48.363455346072485,37.56532093563244,75.88463353657868,82.9480577501881,42.41035290021852,27.337430545212428,52.70180874881852,42.35998679310473,68.04225869476048,84.87488243244265,43.23751713807973,56.43677475229448,-1.643338405531118,28.371315379214032,22.164280277470688,88.11236359922947,78.0188270124539,81.55313938447196,68.29757872337285,33.99833580989612,117.46737096355017,46.56691548443655,48.06032574585159,37.712227957436426,32.419340219827646,75.54439163618284,52.53521700820442,46.60284122881478,66.89785331386298,-3.8918885009252193,29.42931857049375,70.69350708122938,52.83362031672863,47.1357827975713,83.38959219081089,54.14879210398804,54.54574338779129,40.02679760234327,77.83857077577919,56.28445654297201,58.035214060413175,51.15892726219325,32.961072870085204,47.8970976677393,55.848676763486125,55.883764886676396,84.96327270159722,46.16332216750871,31.565844259687786,8.126797135616776,49.3821182420707,45.945820682173654,75.94150872814589,62.0731024827498,49.89013536343743,64.83587233234675,36.924401171740804,16.872153143952367,78.33110748197258,72.04897390995419,61.56985909533941,73.19915749197445,82.217720764665,26.475578819830652,41.496745239333436,51.044623780824296,44.70518619563532,0.8175337707500603,45.60247372765757,52.25517283001937,5.0829773065615385,43.65006158720891,5.111079589639786,42.75031318449447,53.791223569273576,50.51574289543452,49.49728186075013,29.297283867581136,66.26840162164534,60.97360738520794,23.342683413527602,65.14307104159492,65.14307104159492,65.68137157526287,22.00132456408989,66.46526571210163,85.56001388930352,61.54787359121532,45.063376582669385,44.95109933348939,30.964329884300916,92.58215519034614,53.82793268993407,73.92271491691382,80.95375087832794,53.48105350502329,64.35429589588476,71.74066641140297,56.49599035272113,26.02499583206751,48.23996820801072,81.13464069283671,96.77203807164332,25.583697944436523,76.69953612723982,55.938724255257,64.76435245545215,44.05056931656993,94.58546876813341,77.06995336367578,32.49824940419403,68.26526267192494,26.50413597836326,0.04368795427069472,19.66168307361373,25.313838334438806,59.994590220666765,12.969540861245527,57.20612389459106,26.332207505413542,49.862417978819295,89.89246565901415,18.988381383270884,62.653454078947405,90.03182522650404,36.43766733418373,76.34770062373393,71.15577398421125,42.496107473557814,16.842169479139457,56.89318317530365,45.84147366580413,58.404642032647914,80.74465324507864,92.03253808319239,21.553877036159218,46.42059143750663,100.3168427725779,36.39430248481108,11.499775624033411,85.05010007041884,61.88012072395596,46.90507090576202,54.74417511611861,72.64554792210888,46.577302453794175,68.46069014592469,60.260133622651686,51.278718026259455,55.42867602067586,36.94709614782073,60.85113771827112,54.90945160406892,39.68002607191569,45.066239449967405,58.784458588566906,46.53295120069721,63.12455385293572,98.13202718091586,87.00473491738934,60.001847940333576,47.570276068345564,76.8395760320928,44.44218173474108,39.694434403621024,71.12070776660047,49.45178627539705,69.47482355764525,75.23346550586218,70.76491191934869,76.85018932760283,42.27983670662505,58.20430169318418,46.43310668577945,44.71479057218434,22.127977654245218,34.40584509883807,14.308012445409148,59.229784443532864,24.838021230690707,81.31096626313018,45.63799199331486,64.09356877856138,23.365665550396546,50.387621635741226,4.000182495232934,42.95424490239295,62.38941246013023,65.02829528946782,57.18672268708092,22.077179223433312,79.51788040038323,20.484798196098048,91.4434979628976,74.05197981743771,49.60816477251281,16.791726187172898,39.93978692578131,58.56488615486818,61.68376810374396,63.20044178891743,50.9819292391695,36.50649409556731,50.99510913320605,94.53230420886699,54.16758364791767,51.16186498727046,69.94250165739697,63.022632953622825,72.30078244184247,61.61457054657457,42.64514134944915,42.990696267823786,23.05239109884749,57.322065676763806,46.68010759545065,55.05908522872871,81.58451418687156,50.51404688582,41.51823463909132,81.50316973774028,78.72237252702976,73.19781226392543,71.46698959209625,22.843630899569295,69.03078117573926,52.83989825874461,78.39324233415698,80.44807697412656,55.76528155204126,71.63636374022657,40.29702430631834,58.49917352908673,22.123961821608855,47.34423161782313,47.414527705931754,20.578706891881016,66.17690317898258,28.504746074115594,43.502668466801666,4.6388933171844045,29.871314465378124,37.9151409925776,55.35298307518925,68.38005596687104,40.337169451984074,51.64661025156185,92.14850434850715,47.364752022397624,37.412880740318755,68.80892063828296,73.55303635566568,71.59626384256006,41.055148217793814,82.65696030956346,28.804658439951503,52.78784939403862,45.42718220864574,65.29686263989254,15.909682533459204,96.40726851733547,77.36594151496003,null,null,null,null,null,null,null,null,null,null,null,null,null,null,null,null,null,null,null,null,null,null,null,null,null,null,null,null,null,null,null,null,null,null,null,null,null,null,null,null,null,null,null,null,null,null,null,null,null,null,null,null,null,null,null,null,null,null,null,null,null,null,null,null,null,null,null,null,null,null,null,null,null,null,null,null],\n",
       "\"..violinwidth..\":[0.011108998294184767,0.012138796910379206,0.013252364456383463,0.014455332200366797,0.015753598131489167,0.017153329441139134,0.018660963989235956,0.02028321065637534,0.022027048480939337,0.023899724479179325,0.025908750045854113,0.028061895833278113,0.030367185007677003,0.03283288478365043,0.03546749614028787,0.03827974162619639,0.04127855116539986,0.04447304578176193,0.047872519166389,0.051486417020311356,0.055324314113733154,0.059395889013254204,0.06371089643966023,0.0682791372312799,0.07311042590130183,0.07821455579204,0.08360126184462187,0.08928018101917372,0.09526081041800467,0.10155246318257259,0.10816422225409159,0.11510489210723539,0.12238294858664477,0.13000648699653594,0.13798316861443663,0.14632016582111662,0.15502410605953382,0.1641010148562476,0.17355625815890702,0.18339448426295543,0.19361956561943802,0.204234540833441,0.21524155717924387,0.2266418139732236,0.23843550715903503,0.2506217754711626,0.2631986485524313,0.27616299740850525,0.28951048758733405,0.3032355354738328,0.3173312680899537,0.33178948678705716,0.34660063521150336,0.36175377191523667,0.37723654797100037,0.3930351899364597,0.40913448849294254,0.42551779306298215,0.442167012685832,0.45906262340264054,0.4761836823719471,0.4935078489024925,0.5110114125545572,0.5286693284217067,0.546455259664408,0.5643416273235936,0.5822996673978976,0.6002994951219935,0.6183101763363,0.6362998057902163,0.6542355921731028,0.6720839496181249,0.6898105953768431,0.7073806533145806,0.7247587628308115,0.7419091927641634,0.7587959597993417,0.7753829508524565,0.7916340488749094,0.8075132614802718,0.8229848517690252,0.8380134706980289,0.852564290319091,0.8666031371921394,0.8800966252643614,0.8930122874976214,0.9053187055221394,0.9169856365944558,0.9279841371445673,0.938286682207452,0.9478672800505573,0.9567015813296843,0.9647669821331473,0.9720427203031882,0.9785099644615659,0.9841518952042534,0.9889537779759278,0.9929030271824042,0.9959892611501404,0.9982043475975085,0.9995424393384879,0.9995424393384879,1.0,0.999575819594203,0.9982710198496106,0.9960890492688291,0.9930356679425764,0.9891189222142011,0.9843491093502491,0.9787387324346372,0.9723024457623921,0.9650569910671274,0.9570211249706894,0.9482155380947197,0.9386627663222551,0.9283870947422135,0.9174144548490474,0.905772315606677,0.8934895690162125,0.8805964108539229,0.8671242172673234,0.8531054179330567,0.8385733664924617,0.823562208985606,0.8081067510064815,0.7922423242969943,0.7760046534890785,0.7594297236898725,0.7425536495864824,0.7254125467241905,0.7080424055847463,0.6904789690610766,0.6727576138899979,0.6549132365676521,0.6369801442321007,0.6189919509550315,0.6009814798401012,0.5829806712796001,0.5650204976734645,0.5471308848671954,0.5293406405164828,0.5116773895380036,0.49416751675810977,0.4768361168236275,0.45970695139283807,0.4428024135800144,0.42614349958430636,0.4097497873914693,0.39363942239985317,0.3778291097839931,0.36233411337724075,0.34716826082190266,0.3323439547097943,0.317872189408823,0.30376257325150324,0.2900233557413558,0.27666145941800346,0.26368251601005416,0.25109090649455507,0.23888980467671597,0.22708122389959534,0.21566606649351153,0.2046441755770816,0.19401438882660893,0.1837745938377592,0.17392178471337938,0.1644521195221775,0.15536097828670864,0.14664302117409195,0.1382922465793248,0.13030204880835544,0.12266527508734267,0.11537428164360806,0.10842098862404254,0.10179693363742097,0.09549332372768168,0.08950108560647099,0.08381091399376037,0.07841331793613046,0.07329866499245266,0.06845722319642242,0.06387920072443072,0.05955478321562394,0.055474168708359,0.051627600174074154,0.048005395644919686,0.04459797594631619,0.041395890058859054,0.03838983814662242,0.03557069229996071,0.032929515051257616,0.03045757573089839,0.028146364738836097,0.025987605813783204,0.023973266387934664,0.0220955661197605,0.02034698370124039,0.01872026203862894,0.01720841190782568,0.015804714186457482,0.014502720765121246,0.013296254239786606,0.012179406486341233,0.011146536216538834,0.010192265612479915,0.009311476134022632,0.008499303590505573,0.007751132564672099,0.007062590272998442,0.0064295399426214424,0.005848073780916353,0.00531450560943356,0.004825363229532915,0.004377380582537556,0.0039674897627897335,0.0035928129374952337,0.0032506542228410893,0.002938491561531583,0.0026539686426626987,0.002394886900743328,0.002159197626726149,0.0019449942201157483,0.0017505046076008064,0.0015740838502372521,0.0014142069579689887,0.0012694619272438385,0.0011385430146517133,0.001020244256891496,9.134532449550092E-4,8.171451582024052E-4,7.30377061992353E-4,6.522824707108037E-4,5.820661764161102E-4,5.18999341874627E-4,4.62414855492898E-4,4.117029445542366E-4,3.6630704222829146E-4,3.2571990303477703E-4,2.8947996079876237E-4,2.57167922621962E-4,2.2840359201077795E-4,2.0284291402930795E-4,1.8017523518356414E-4,1.6012077067836553E-4,1.4242827171452368E-4,1.268728856021782E-4,1.1325420164987876E-4,1.013944760402989E-4,9.113702921518866E-5,8.234480965895874E-5,7.489911838485208E-5,6.869848888483492E-5,6.365771779903511E-5,5.970704208676601E-5,5.679145903530869E-5,5.487018601938687E-5,5.3916257519773155E-5,5.3916257519773155E-5,5.3916257519774714E-5,5.487018601938622E-5,5.679145903530801E-5,5.970704208676672E-5,6.365771779903614E-5,6.869848888483585E-5,7.48991183848516E-5,8.234480965896151E-5,9.113702921518626E-5,1.0139447604029815E-4,1.1325420164988033E-4,1.268728856021784E-4,1.4242827171452867E-4,1.6012077067836312E-4,1.8017523518356251E-4,2.0284291402931305E-4,2.2840359201078172E-4,2.5716792262195826E-4,2.8947996079876535E-4,3.2571990303479855E-4,3.663070422282784E-4,4.1170294455423535E-4,4.624148554928871E-4,5.18999341874621E-4,5.820661764161144E-4,6.52282470710804E-4,7.303770619923538E-4,8.171451582023837E-4,9.134532449549952E-4,0.0010202442568914868,0.0011385430146516958,0.0012694619272438387,0.0014142069579689972,0.0015740838502372033,0.0017505046076008242,0.0019449942201157752,0.002159197626726182,0.0023948869007432575,0.0026539686426627837,0.002938491561531562,0.003250654222840985,0.003592812937495388,0.003967489762789761,0.004377380582537691,0.004825363229533132,0.005314505609433776,0.005848073780916084,0.006429539942621707,0.007062590272998302,0.007751132564672128,0.008499303590505386,0.009311476134022702,0.0101922656124796,0.011146536216539044,0.012179406486341152,0.013296254239787038,0.01450272076512107,0.015804714186457472,0.01720841190782525,0.0187202620386287,0.02034698370124025,0.02209556611976071,0.02397326638793409,0.02598760581378349,0.02814636473883604,0.030457575730898703,0.032929515051258136,0.03557069229996237,0.038389838146622335,0.0413958900588606,0.04459797594631685,0.048005395644921754,0.051627600174073744,0.055474168708360715,0.05955478321562222,0.06387920072443123,0.06845722319641857,0.07329866499245329,0.07841331793613224,0.08381091399376048,0.08950108560646834,0.0954933237276787,0.10179693363742186,0.10842098862404477,0.11537428164360555,0.12266527508734125,0.13030204880835725,0.13829224657932754,0.14664302117409375,0.15536097828670048,0.16445211952218075,0.17392178471338135,0.18377459383775488,0.1940143888266072,0.20464417557708864,0.21566606649350265,0.22708122389958676,0.23888980467671356,0.2510909064945575,0.26368251601005205,0.2766614594180013,0.29002335574135335,0.30376257325151673,0.3178721894088246,0.3323439547097948,0.3471682608219095,0.3623341133772259,0.37782910978399364,0.3936394223998389,0.40974978739148027,0.4261434995843065,0.44280241358000716,0.45970695139282514,0.4768361168236452,0.4941675167581238,0.5116773895380148,0.5293406405164914,0.5471308848672023,0.56502049767347,0.5829806712796042,0.6009814798401085,0.6189919509550349,0.6369801442321029,0.6549132365676545,0.6727576138899992,0.6904789690610775,0.7080424055847473,0.7254125467241911,0.7425536495864828,0.7594297236898727,0.7760046534890819,0.7922423242969947,0.8081067510064815,0.8235622089856061,0.8385733664924626,0.8531054179330567,0.8671242172673234,0.880596410853951,0.8934895690162131,0.905772315606677,0.9174144548490482,0.9283870947422135,0.9386627663222551,0.9482155380947197,0.9570211249706894,0.9650569910671274,0.9723024457623921,0.9787387324346372,0.9843491093502491,0.9891189222142011,0.9930356679425764,0.9960890492688291,0.9982710198496106,0.999575819594203,0.999575819594203,1.0,0.9995424393384879,0.9982043475975085,0.9959892611501404,0.9929030271824042,0.9889537779759278,0.9841518952042534,0.9785099644615659,0.9720427203031882,0.9647669821331373,0.9567015813296841,0.9478672800505573,0.938286682207452,0.9279841371445665,0.9169856365944558,0.9053187055221393,0.8930122874976185,0.8800966252643335,0.8666031371921394,0.8525642903190909,0.8380134706980289,0.8229848517690251,0.807513261480271,0.7916340488749094,0.7753829508524562,0.7587959597993205,0.7419091927641634,0.7247587628308113,0.7073806533145803,0.6898105953768428,0.6720839496181249,0.6542355921731028,0.6362998057902159,0.6183101763362999,0.6002994951219934,0.5822996673978976,0.5643416273235935,0.546455259664408,0.5286693284217067,0.5110114125545572,0.49350784890249244,0.4761836823719469,0.45906262340264015,0.44216701268583186,0.42551779306298215,0.4091344884929422,0.3930351899364596,0.37723654797100037,0.3617537719152366,0.3466006352115033,0.33178948678705705,0.3173312680899536,0.3032355354738327,0.28951048758733405,0.2761629974085031,0.2631986485524307,0.2506217754711602,0.238435507159035,0.22664181397322355,0.21524155717924387,0.204234540833441,0.19361956561943794,0.1833944842629554,0.173556258158907,0.16410101485624748,0.15502410605953382,0.1463201658211164,0.13798316861443227,0.13000648699653594,0.12238294858664443,0.11510489210723525,0.10816422225409159,0.10155246318257258,0.09526081041800306,0.08928018101917332,0.08360126184462183,0.07821455579203984,0.07311042590130183,0.06827913723127978,0.06371089643965962,0.059395889013254204,0.05532431411373314,0.051486417020309774,0.047872519166388974,0.04447304578176192,0.04127855116539978,0.03827974162619639,0.035467496140287845,0.03283288478365033,0.03036718500767698,0.028061895833278113,0.02590875004585408,0.023899724479179325,0.022027048480939327,0.0202832106563753,0.018660963989235956,0.01715332944113913,0.015753598131489126,0.014455332200366796,0.013252364456383461,0.012138796910379009,0.011108998294184559,2.4413947018294406E-5,2.7539012437168562E-5,3.1015596353248955E-5,3.48765392017502E-5,3.915688818635579E-5,4.389394022993998E-5,4.912727171290635E-5,5.4898753096826425E-5,6.125254647542276E-5,6.823508405856713E-5,7.589502558045638E-5,8.428319263357255E-5,9.345247796780207E-5,1.0345772786214982E-4,1.1435559577680774E-4,1.2620436562834787E-4,1.3906374320214862E-4,1.529946144250604E-4,1.6805876946896105E-4,1.843185919422629E-4,2.018367127516192E-4,2.2067562857884887E-4,2.408972853172237E-4,2.625626272438341E-4,2.857311131681818E-4,3.1046020128703585E-4,3.36804804987372E-4,3.6481672236759723E-4,3.9454404278522283E-4,4.2603053428059187E-4,4.5931501626297487E-4,4.944307223690114E-4,5.314046589057949E-4,5.702569647626345E-4,6.11000279107249E-4,6.536391235648189E-4,6.981693059024739E-4,7.445773524986415E-4,7.928399770571945E-4,8.429235931238187E-4,8.947838779673382E-4,9.483653952980195E-4,0.00100360128410172,0.0010604130205695208,0.0011187102596963746,0.0011783907626069395,0.0012393404150447735,0.0013014333417344969,0.0013645321205009704,0.00142848809911077,0.0014931418167980033,0.0015583235313601262,0.0016238538515694892,0.0016895444734593339,0.0017551990178206079,0.0018206139650076203,0.001885579681909735,0.001949881534724717,0.0020133010799809037,0.0020756173251221186,0.002136608048907273,0.002196051170902816,0.002253726158480262,0.0023094154589855644,0.0023629059441359276,0.0024139903532405305,0.0024624687215355576,0.0025081497797886996,0.002550852311362131,0.002590406453133782,0.002626654927061748,0.00265945418973455,0.002688675487977098,0.002714205809466864,0.002735948718351286,0.0027538250670276813,0.0027538250670276813,0.002767773576540383,0.002777751279445885,0.0027837338204777253,0.0027857156118875326,0.0027837098419268734,0.0027777483365430946,0.002767881275966314,0.002754176769447677,0.0027367202929409955,0.0027156139959870125,0.0026909758854347524,0.0026629388949066775,0.0026316498500574535,0.0025972683406872915,0.0025599655116243115,0.0025199227849882276,0.0024773305269751304,0.0024323866726579367,0.0023852953224798757,0.0023362653241247623,0.0022855088532876314,0.0022332400065434425,0.0021796734190333315,0.0021250229190617194,0.0020695002309456547,0.002013313736582323,0.001956667305229878,0.001899759199936239,0.0018427810679271309,0.0017859170210891245,0.001729342811478291,0.0016732251055664154,0.0016177208597219894,0.0015629767982295291,0.0015091289939924237,0.0015091289939924237,0.001456302550958393,0.0014046113862619142,0.0013541581091101739,0.0013050339925541232,0.0012573190334946578,0.0012110820955801972,0.0011663811290615275,0.0011232634611836353,0.0010817661503149383,0.0010419163967393657,0.0010037320028644346,9.672218755248719E-4,9.323865630810962E-4,8.992188201189948E-4,8.677041927446932E-4,8.378216177273232E-4,8.095440290662852E-4,7.828389659373736E-4,7.576691763965863E-4,7.339932116810991E-4,7.117660064358697E-4,6.909394407022208E-4,6.714628800233241E-4,6.532836905433683E-4,6.363477264941747E-4,6.205997879693964E-4,6.05984047375637E-4,5.924444434170111E-4,5.799250419101484E-4,5.683703631372342E-4,5.577256758218992E-4,5.47937258155053E-4,5.389526266034381E-4,5.30720733501989E-4,5.231921346621567E-4,5.163191284223467E-4,5.100558677247968E-4,5.043584469268106E-4,4.99184965145046E-4,4.944955679918035E-4,4.902524695940463E-4,4.864199567919894E-4,4.82964377396928E-4,4.798541143503975E-4,4.7705954757138895E-4,4.7455300520793836E-4,4.7230870592645895E-4,4.7030269377934953E-4,4.685127670909366E-4,4.669184026959462E-4,4.6550067675546746E-4,4.6424218326466475E-4,4.63126951255887E-4,4.6214036159180353E-4,4.6126906413702034E-4,4.6050089599435735E-4,4.598248013944081E-4,4.5923075373493285E-4,4.5870968018051723E-4,4.5825338915313354E-4,4.5785450097102497E-4,4.575063818267802E-4,4.572030812355584E-4,4.569392730310642E-4,4.5671019993990137E-4,4.5651162172403694E-4,4.563397668460303E-4,4.5619128758206943E-4,4.5606321848329E-4,4.5595293806594857E-4,4.5585813359545204E-4,4.5577676881741253E-4,4.5570705448057746E-4,4.556474214912261E-4,4.5559649653590317E-4,4.555530800090936E-4,4.5551612608397236E-4,4.554847247676364E-4,4.554580857867711E-4,4.554355241553235E-4,4.554164472822451E-4,4.554003434844149E-4,4.5538677177736354E-4,4.5537535282416425E-4,4.5536576093074935E-4,4.553577169837329E-4,4.5535098223464083E-4,4.5534535284197256E-4,4.5534065508984445E-4,4.553367412089965E-4,4.553334857325973E-4,4.5533078232554944E-4,4.5532854103195726E-4,4.553266858908858E-4,4.55325152875653E-4,4.55323888116641E-4,4.5532284637191036E-4,4.553219897138958E-4,4.553212864040363E-4,4.5532070993048327E-4,4.5532023818698614E-4,4.553198527736867E-4,4.553195384029672E-4,4.553192823956012E-4,4.553190742543397E-4,4.5531890530379126E-4,4.553187683868904E-4,4.553186576095571E-4,4.553185681263665E-4,4.553184959609626E-4,4.55318437855899E-4,4.553183911473291E-4,4.553183536606362E-4,4.5531832362367904E-4,4.553182995948108E-4,4.5531828040328606E-4,4.553182650999962E-4,4.55318252916848E-4,4.5531824323331545E-4,4.553182355489491E-4,4.5531822946083767E-4,4.553182246451612E-4,4.553182208421037E-4,4.5531821784356683E-4,4.553182154831597E-4,4.553182136280652E-4,4.5531821217245096E-4,4.553182110321254E-4,4.553182101402305E-4,4.5531820944376433E-4,4.553182089007771E-4,4.5531820847812503E-4,4.5531820814966793E-4,4.5531820789482345E-4,4.553182076974079E-4,4.5531820754472535E-4,4.5531820742682845E-4,4.553182073359358E-4,4.5531820726597177E-4,4.55318207212203E-4,4.553182071709442E-4,4.553182071393311E-4,4.5531820711514233E-4,4.5531820709665793E-4,4.5531820708254634E-4,4.5531820707177864E-4,4.5531820707177864E-4,4.5531820706356E-4,4.553182070572773E-4,4.5531820705245555E-4,4.5531820704872535E-4,4.5531820704580077E-4,4.5531820704345234E-4,4.553182070414956E-4,4.553182070397778E-4,4.5531820703816555E-4,4.553182070365344E-4,4.553182070347624E-4,4.553182070327195E-4,4.5531820703025944E-4,4.5531820702721175E-4,4.5531820702336966E-4,4.553182070184773E-4,4.553182070122119E-4,4.55318207004169E-4,4.553182069938378E-4,4.553182069805675E-4,4.553182069635389E-4,4.5531820694171026E-4,4.553182069137633E-4,4.5531820687803724E-4,4.553182068324334E-4,4.553182067743079E-4,4.553182067003391E-4,4.553182066063523E-4,4.553182064871183E-4,4.5531820633608924E-4,4.553182061450888E-4,4.553182059039161E-4,4.5531820559986766E-4,4.5531820521715357E-4,4.553182047361757E-4,4.553182041326521E-4,4.5531820337654897E-4,4.5531820243077686E-4,4.5531820124961346E-4,4.5531819977678433E-4,4.553181979431514E-4,4.5531819566390854E-4,4.5531819283520556E-4,4.553181893300899E-4,4.5531818499362824E-4,4.553181796370567E-4,4.553181730307825E-4,4.5531816489602746E-4,4.553181548948606E-4,4.5531814261834684E-4,4.553181275724614E-4,4.5531810916140536E-4,4.553180866678647E-4,4.553180592296874E-4,4.553180258124209E-4,4.553179851769929E-4,4.5531793584178076E-4,4.553178760381688E-4,4.553178036585856E-4,4.553177161958631E-4,4.553176106726139E-4,4.5531748355914705E-4,4.553173306782485E-4,4.5531714709496414E-4,4.553169269892608E-4,4.553166635092307E-4,4.5531634860219566E-4,4.5531597282080425E-4,4.5531552510087313E-4,4.553149925074075E-4,4.553143599448383E-4,4.553136098271699E-4,4.553127217032851E-4,4.5531167183225163E-4,4.553104327030071E-4,4.5530897249236346E-4,4.553072544547738E-4,4.5530523623682847E-4,4.5530286910898274E-4,4.5530009710650205E-4,4.552968560711786E-4,4.5529307258489844E-4,4.5528866278572174E-4,4.5528353105676655E-4,4.552775685778373E-4,4.552706517294851E-4,4.552626403390003E-4,4.5525337575771956E-4,4.552426787590725E-4,4.552303472469181E-4,4.552161537640092E-4,4.551998427908742E-4,4.55181127826052E-4,4.5515968823944055E-4,4.551351658915824E-4,4.551071615130241E-4,4.550752308394426E-4,4.550388805000611E-4,4.5499756365902604E-4,4.5495067541183787E-4,4.54897547941676E-4,4.5483744544354455E-4,4.5476955882753676E-4,4.546930002162503E-4,4.546067972554027E-4,4.54509887261042E-4,4.544011112313528E-4,4.5427920775594995E-4,4.541428068606351E-4,4.539904238309116E-4,4.5382045306294395E-4,4.5363116199620353E-4,4.5342068518754896E-4,4.5318701859198984E-4,4.5292801412073796E-4,4.526413745522863E-4,4.523246488771194E-4,4.5197522816106314E-4,4.515903420162483E-4,4.5116705577195074E-4,4.507022684402037E-4,4.5019271157283817E-4,4.496349491074446E-4,4.4902537829957947E-4,4.4836023183717253E-4,4.47635581230562E-4,4.4684734156769107E-4,4.459912777187454E-4,4.4506301206783484E-4,4.440580338411129E-4,4.4297171009108544E-4,4.417992983856403E-4,4.405359612376854E-4,4.391767822971363E-4,4.3771678431152783E-4,4.3615094884471304E-4,4.3447423772519176E-4,4.326816161766241E-4,4.3076807756327215E-4,4.287286696626444E-4,4.265585223566899E-4,4.242528766118051E-4,4.2180711459686103E-4,4.1921679076776646E-4,4.164776637270136E-4,4.1358572864751955E-4,4.1053725003216526E-4,4.073287945640714E-4,4.0395726378811904E-4,4.004199263518165E-4,3.9671444952360296E-4,3.928389296993365E-4,3.8879192160323935E-4,3.8457246588818986E-4,3.801801148421138E-4,3.7561495591245474E-4,3.7087763276940136E-4,3.6596936364071016E-4,3.6089195666663427E-4,3.556478220425151E-4,3.5023998073898E-4,3.4467206961516663E-4,3.3894834276882493E-4,3.3307366899819893E-4,3.2705352528399E-4,3.208939862350861E-4,3.146017094787057E-4,3.081839170137234E-4,3.016483725847836E-4,2.950033551738585E-4,2.882576287447042E-4,2.814204084137064E-4,2.7450132325739944E-4,2.6751037600197336E-4,2.6045789987294896E-4,2.533545129133686E-4,2.4621107010598816E-4,2.3903861365864154E-4,2.3184832183187652E-4,2.2465145670383296E-4,2.1745931127896572E-4,2.1028315635438633E-4,2.0313418756026576E-4,1.9602347298882755E-4,1.8896190182001455E-4,1.8196013434100588E-4,1.7502855374157994E-4,1.6817722004802815E-4,1.6141582653523908E-4,1.5475365892998202E-4,1.4819955768871214E-4,1.4176188360077145E-4,1.3544848693315884E-4,1.292666802964954E-4,1.2322321537395255E-4,1.1732426361620306E-4,1.1157540096640168E-4,1.0598159664031574E-4,1.0054720594843776E-4,9.527596710973885E-5,9.017100197104655E-5,8.52348205122885E-5,8.046932898636562E-5,7.587584151356425E-5,7.145509492441174E-5,6.720726662199492E-5,6.313199521513993E-5,5.922840365763584E-5,5.54951246159279E-5,5.193032777845781E-5,4.8531748814023226E-5,4.529671968412672E-5,4.22222000151443E-5,3.9304809240121455E-5,3.6540859226891547E-5,3.392638711880786E-5,3.145718812640143E-5,2.912884802248501E-5,2.6936775109307167E-5,2.487623144403468E-5,2.294236312779438E-5,2.1130229483445616E-5,1.9434830967864567E-5,1.78511356855274E-5,1.6374104391291607E-5,1.4998713891234362E-5,1.3719978770966587E-5,1.2532971400785907E-5,1.1432840186148813E-5,1.0414826050070284E-5,9.474277151040237E-6,8.60666185575905E-6,7.807580000346635E-6,7.072772486591305E-6,6.398129271238425E-6,5.779695816245707E-6,5.213678076354072E-6,4.696446107258363E-6,4.224536383151999E-6,3.794652916513889E-6,3.403667275778134E-6,3.048617598054961E-6,2.7267066944468734E-6,2.4352993448241495E-6,2.1719188772941043E-6,1.9342431251226873E-6,1.7200998506563063E-6,1.5274617219523716E-6,1.3544409234657229E-6,1.1992834773573776E-6,1.0603633468910281E-6,9.361763880528904E-7,8.253342100598841E-7,7.265579998882043E-7,6.386723604317509E-7]\n",
       "}\n",
       "}],\n",
       "\"metainfo_list\":[]\n",
       "};\n",
       "           var plotContainer = document.getElementById(\"awqci5\");\n",
       "           window.letsPlotCall(function() {{\n",
       "               LetsPlot.buildPlotFromProcessedSpecs(plotSpec, -1, -1, plotContainer);\n",
       "           }});\n",
       "       })();    \n",
       "   </script>"
      ],
      "text/plain": [
       "<lets_plot.plot.core.PlotSpec at 0x17e72d35cd0>"
      ]
     },
     "execution_count": 45,
     "metadata": {},
     "output_type": "execute_result"
    }
   ],
   "source": [
    "violin = (ggplot(df,aes('name','value',fill='name'))+ggsize(600,400)+\n",
    "      geom_violin(trim=False)+\n",
    "      scale_fill_brewer(palette=\"Set2\")+\n",
    "      theme_classic()+\n",
    "      theme(geom=element_geom(pen='#333333'))\n",
    ")\n",
    "violin"
   ]
  },
  {
   "cell_type": "markdown",
   "metadata": {},
   "source": [
    "You can embed boxplot into violinplot"
   ]
  },
  {
   "cell_type": "code",
   "execution_count": 46,
   "metadata": {},
   "outputs": [
    {
     "data": {
      "text/html": [
       "   <div id=\"SalCgP\"></div>\n",
       "   <script type=\"text/javascript\" data-lets-plot-script=\"plot\">\n",
       "       (function() {\n",
       "           var plotSpec={\n",
       "\"data\":{\n",
       "},\n",
       "\"mapping\":{\n",
       "\"x\":\"name\",\n",
       "\"y\":\"value\",\n",
       "\"fill\":\"name\"\n",
       "},\n",
       "\"data_meta\":{\n",
       "},\n",
       "\"ggsize\":{\n",
       "\"width\":600.0,\n",
       "\"height\":400.0\n",
       "},\n",
       "\"theme\":{\n",
       "\"name\":\"classic\",\n",
       "\"geom\":{\n",
       "\"pen\":\"#333333\"\n",
       "}\n",
       "},\n",
       "\"kind\":\"plot\",\n",
       "\"scales\":[{\n",
       "\"aesthetic\":\"fill\",\n",
       "\"palette\":\"Set2\",\n",
       "\"scale_mapper_kind\":\"color_brewer\"\n",
       "}],\n",
       "\"layers\":[{\n",
       "\"geom\":\"violin\",\n",
       "\"mapping\":{\n",
       "},\n",
       "\"data_meta\":{\n",
       "},\n",
       "\"trim\":false,\n",
       "\"data\":{\n",
       "\"..quantile..\":[0.25,0.25,0.25,0.25,0.25,0.25,0.25,0.25,0.25,0.25,0.25,0.25,0.25,0.25,0.25,0.25,0.25,0.25,0.25,0.25,0.25,0.25,0.25,0.25,0.25,0.25,0.25,0.25,0.25,0.25,0.25,0.25,0.25,0.25,0.25,0.25,0.25,0.25,0.25,0.25,0.25,0.25,0.25,0.25,0.25,0.25,0.25,0.25,0.25,0.25,0.25,0.25,0.25,0.25,0.25,0.25,0.25,0.25,0.25,0.25,0.25,0.25,0.25,0.25,0.25,0.25,0.25,0.25,0.25,0.25,0.25,0.25,0.25,0.25,0.25,0.25,0.25,0.25,0.25,0.25,0.25,0.25,0.25,0.25,0.25,0.25,0.25,0.25,0.25,0.25,0.25,0.25,0.25,0.25,0.25,0.25,0.25,0.25,0.25,0.25,0.25,0.5,0.5,0.5,0.5,0.5,0.5,0.5,0.5,0.5,0.5,0.5,0.5,0.5,0.5,0.5,0.5,0.5,0.5,0.5,0.5,0.5,0.5,0.5,0.5,0.5,0.5,0.5,0.5,0.5,0.5,0.5,0.5,0.5,0.5,0.5,0.5,0.5,0.5,0.5,0.5,0.5,0.5,0.5,0.5,0.5,0.5,0.5,0.5,0.5,0.5,0.5,0.5,0.5,0.5,0.5,0.5,0.5,0.5,0.5,0.5,0.5,0.5,0.5,0.5,0.5,0.5,0.5,0.5,0.5,0.5,0.5,0.5,0.5,0.5,0.5,0.5,0.5,0.5,0.5,0.5,0.5,0.5,0.5,0.5,0.5,0.5,0.5,0.5,0.5,0.5,0.5,0.5,0.5,0.5,0.5,0.5,0.5,0.5,0.5,0.5,0.5,0.5,0.5,0.5,0.5,0.5,0.5,0.5,0.5,0.5,0.5,0.5,0.5,0.5,0.5,0.5,0.5,0.5,0.5,0.5,0.5,0.5,0.5,0.5,0.5,0.5,0.5,0.5,0.5,0.5,0.5,0.5,0.5,0.5,0.5,0.5,0.5,0.5,0.5,0.5,0.5,0.5,0.5,0.5,0.5,0.5,0.5,0.5,0.5,0.5,0.5,0.5,0.5,0.5,0.5,0.5,0.75,0.75,0.75,0.75,0.75,0.75,0.75,0.75,0.75,0.75,0.75,0.75,0.75,0.75,0.75,0.75,0.75,0.75,0.75,0.75,0.75,0.75,0.75,0.75,0.75,0.75,0.75,0.75,0.75,0.75,0.75,0.75,0.75,0.75,0.75,0.75,0.75,0.75,0.75,0.75,0.75,0.75,0.75,0.75,0.75,0.75,0.75,0.75,0.75,0.75,0.75,0.75,0.75,0.75,0.75,0.75,0.75,0.75,0.75,0.75,0.75,0.75,0.75,0.75,0.75,0.75,0.75,0.75,0.75,0.75,0.75,0.75,0.75,0.75,0.75,0.75,0.75,0.75,0.75,0.75,0.75,0.75,0.75,0.75,0.75,0.75,0.75,0.75,0.75,0.75,0.75,0.75,0.75,0.75,0.75,0.75,0.75,0.75,0.75,0.75,0.75,0.75,0.75,0.75,0.75,0.75,0.75,0.75,0.75,0.75,0.75,0.75,0.75,0.75,0.75,0.75,0.75,0.75,0.75,0.75,0.75,0.75,0.75,0.75,0.75,0.75,0.75,0.75,0.75,0.75,0.75,0.75,0.75,0.75,0.75,0.75,0.75,0.75,0.75,0.75,0.75,0.75,0.75,0.75,0.75,0.75,0.75,0.75,0.75,0.75,0.75,0.75,0.75,0.75,0.75,1.0,1.0,1.0,1.0,1.0,1.0,1.0,1.0,1.0,1.0,1.0,1.0,1.0,1.0,1.0,1.0,1.0,1.0,1.0,1.0,1.0,1.0,1.0,1.0,1.0,1.0,1.0,1.0,1.0,1.0,1.0,1.0,1.0,1.0,1.0,1.0,1.0,1.0,1.0,1.0,1.0,1.0,1.0,1.0,1.0,1.0,1.0,1.0,1.0,1.0,1.0,1.0,1.0,1.0,1.0,1.0,1.0,1.0,1.0,1.0,1.0,1.0,1.0,1.0,1.0,1.0,1.0,1.0,1.0,1.0,1.0,1.0,1.0,1.0,1.0,1.0,1.0,1.0,1.0,1.0,1.0,1.0,1.0,1.0,1.0,1.0,1.0,1.0,1.0,1.0,1.0,1.0,1.0,1.0,1.0,1.0,1.0,1.0,1.0,1.0,1.0,1.0,1.0,0.25,0.25,0.25,0.25,0.25,0.25,0.25,0.25,0.25,0.25,0.25,0.25,0.25,0.25,0.25,0.25,0.25,0.25,0.25,0.25,0.25,0.25,0.25,0.25,0.25,0.25,0.25,0.25,0.25,0.25,0.25,0.25,0.25,0.25,0.25,0.25,0.25,0.25,0.25,0.25,0.25,0.25,0.25,0.25,0.25,0.25,0.25,0.25,0.25,0.25,0.25,0.25,0.25,0.25,0.25,0.25,0.25,0.25,0.25,0.25,0.25,0.25,0.25,0.25,0.25,0.25,0.25,0.25,0.25,0.25,0.25,0.25,0.25,0.25,0.25,0.25,0.5,0.5,0.5,0.5,0.5,0.5,0.5,0.5,0.5,0.5,0.5,0.5,0.5,0.5,0.5,0.5,0.5,0.5,0.5,0.5,0.5,0.5,0.5,0.5,0.5,0.5,0.5,0.5,0.5,0.5,0.5,0.5,0.5,0.5,0.5,0.5,0.75,0.75,0.75,0.75,0.75,0.75,0.75,0.75,0.75,0.75,0.75,0.75,0.75,0.75,0.75,0.75,0.75,0.75,0.75,0.75,0.75,0.75,0.75,0.75,0.75,0.75,0.75,0.75,0.75,0.75,0.75,0.75,0.75,0.75,0.75,0.75,0.75,0.75,0.75,0.75,0.75,0.75,0.75,0.75,0.75,0.75,0.75,0.75,0.75,0.75,0.75,0.75,0.75,0.75,0.75,0.75,0.75,0.75,0.75,0.75,0.75,0.75,0.75,0.75,0.75,0.75,0.75,0.75,0.75,0.75,0.75,0.75,0.75,0.75,0.75,0.75,0.75,0.75,0.75,0.75,0.75,0.75,0.75,0.75,0.75,0.75,0.75,0.75,0.75,0.75,0.75,0.75,0.75,0.75,0.75,0.75,0.75,0.75,0.75,0.75,0.75,0.75,0.75,0.75,0.75,0.75,0.75,0.75,0.75,0.75,0.75,0.75,0.75,0.75,0.75,0.75,0.75,0.75,0.75,0.75,0.75,0.75,0.75,0.75,0.75,0.75,0.75,0.75,0.75,0.75,0.75,0.75,0.75,0.75,0.75,0.75,0.75,0.75,0.75,0.75,0.75,0.75,0.75,0.75,0.75,0.75,0.75,1.0,1.0,1.0,1.0,1.0,1.0,1.0,1.0,1.0,1.0,1.0,1.0,1.0,1.0,1.0,1.0,1.0,1.0,1.0,1.0,1.0,1.0,1.0,1.0,1.0,1.0,1.0,1.0,1.0,1.0,1.0,1.0,1.0,1.0,1.0,1.0,1.0,1.0,1.0,1.0,1.0,1.0,1.0,1.0,1.0,1.0,1.0,1.0,1.0,1.0,1.0,1.0,1.0,1.0,1.0,1.0,1.0,1.0,1.0,1.0,1.0,1.0,1.0,1.0,1.0,1.0,1.0,1.0,1.0,1.0,1.0,1.0,1.0,1.0,1.0,1.0,1.0,1.0,1.0,1.0,1.0,1.0,1.0,1.0,1.0,1.0,1.0,1.0,1.0,1.0,1.0,1.0,1.0,1.0,1.0,1.0,1.0,1.0,1.0,1.0,1.0,1.0,1.0,1.0,1.0,1.0,1.0,1.0,1.0,1.0,1.0,1.0,1.0,1.0,1.0,1.0,1.0,1.0,1.0,1.0,1.0,1.0,1.0,1.0,1.0,1.0,1.0,1.0,1.0,1.0,1.0,1.0,1.0,1.0,1.0,1.0,1.0,1.0,1.0,1.0,1.0,1.0,1.0,1.0,1.0,1.0,1.0,1.0,1.0,1.0,1.0,1.0,1.0,1.0,1.0,1.0,1.0,1.0,1.0,1.0,1.0,1.0,1.0,1.0,1.0,1.0,1.0,1.0,1.0,1.0,1.0,1.0,1.0,1.0,1.0,1.0,1.0,1.0,1.0,1.0,1.0,1.0,1.0,1.0,1.0,1.0,1.0,1.0,1.0,1.0,1.0,1.0,1.0,1.0,1.0,1.0,1.0,1.0,1.0,1.0,1.0,1.0,1.0,1.0,1.0,1.0,1.0,1.0,1.0,1.0,1.0,1.0,1.0,1.0,1.0,1.0,1.0,1.0,1.0,1.0,1.0,1.0,1.0,1.0,1.0,1.0,1.0,1.0,1.0,1.0,1.0,1.0,1.0,1.0,1.0,1.0,1.0,1.0,1.0,1.0,1.0,1.0,1.0,1.0,1.0,1.0,1.0,1.0,1.0,1.0,1.0,1.0,1.0,1.0,1.0,1.0],\n",
       "\"name\":[\"name\",\"name\",\"name\",\"name\",\"name\",\"name\",\"name\",\"name\",\"name\",\"name\",\"name\",\"name\",\"name\",\"name\",\"name\",\"name\",\"name\",\"name\",\"name\",\"name\",\"name\",\"name\",\"name\",\"name\",\"name\",\"name\",\"name\",\"name\",\"name\",\"name\",\"name\",\"name\",\"name\",\"name\",\"name\",\"name\",\"name\",\"name\",\"name\",\"name\",\"name\",\"name\",\"name\",\"name\",\"name\",\"name\",\"name\",\"name\",\"name\",\"name\",\"name\",\"name\",\"name\",\"name\",\"name\",\"name\",\"name\",\"name\",\"name\",\"name\",\"name\",\"name\",\"name\",\"name\",\"name\",\"name\",\"name\",\"name\",\"name\",\"name\",\"name\",\"name\",\"name\",\"name\",\"name\",\"name\",\"name\",\"name\",\"name\",\"name\",\"name\",\"name\",\"name\",\"name\",\"name\",\"name\",\"name\",\"name\",\"name\",\"name\",\"name\",\"name\",\"name\",\"name\",\"name\",\"name\",\"name\",\"name\",\"name\",\"name\",\"name\",\"name\",\"name\",\"name\",\"name\",\"name\",\"name\",\"name\",\"name\",\"name\",\"name\",\"name\",\"name\",\"name\",\"name\",\"name\",\"name\",\"name\",\"name\",\"name\",\"name\",\"name\",\"name\",\"name\",\"name\",\"name\",\"name\",\"name\",\"name\",\"name\",\"name\",\"name\",\"name\",\"name\",\"name\",\"name\",\"name\",\"name\",\"name\",\"name\",\"name\",\"name\",\"name\",\"name\",\"name\",\"name\",\"name\",\"name\",\"name\",\"name\",\"name\",\"name\",\"name\",\"name\",\"name\",\"name\",\"name\",\"name\",\"name\",\"name\",\"name\",\"name\",\"name\",\"name\",\"name\",\"name\",\"name\",\"name\",\"name\",\"name\",\"name\",\"name\",\"name\",\"name\",\"name\",\"name\",\"name\",\"name\",\"name\",\"name\",\"name\",\"name\",\"name\",\"name\",\"name\",\"name\",\"name\",\"name\",\"name\",\"name\",\"name\",\"name\",\"name\",\"name\",\"name\",\"name\",\"name\",\"name\",\"name\",\"name\",\"name\",\"name\",\"name\",\"name\",\"name\",\"name\",\"name\",\"name\",\"name\",\"name\",\"name\",\"name\",\"name\",\"name\",\"name\",\"name\",\"name\",\"name\",\"name\",\"name\",\"name\",\"name\",\"name\",\"name\",\"name\",\"name\",\"name\",\"name\",\"name\",\"name\",\"name\",\"name\",\"name\",\"name\",\"name\",\"name\",\"name\",\"name\",\"name\",\"name\",\"name\",\"name\",\"name\",\"name\",\"name\",\"name\",\"name\",\"name\",\"name\",\"name\",\"name\",\"name\",\"name\",\"name\",\"name\",\"name\",\"name\",\"name\",\"name\",\"name\",\"name\",\"name\",\"name\",\"name\",\"name\",\"name\",\"name\",\"name\",\"name\",\"name\",\"name\",\"name\",\"name\",\"name\",\"name\",\"name\",\"name\",\"name\",\"name\",\"name\",\"name\",\"name\",\"name\",\"name\",\"name\",\"name\",\"name\",\"name\",\"name\",\"name\",\"name\",\"name\",\"name\",\"name\",\"name\",\"name\",\"name\",\"name\",\"name\",\"name\",\"name\",\"name\",\"name\",\"name\",\"name\",\"name\",\"name\",\"name\",\"name\",\"name\",\"name\",\"name\",\"name\",\"name\",\"name\",\"name\",\"name\",\"name\",\"name\",\"name\",\"name\",\"name\",\"name\",\"name\",\"name\",\"name\",\"name\",\"name\",\"name\",\"name\",\"name\",\"name\",\"name\",\"name\",\"name\",\"name\",\"name\",\"name\",\"name\",\"name\",\"name\",\"name\",\"name\",\"name\",\"name\",\"name\",\"name\",\"name\",\"name\",\"name\",\"name\",\"name\",\"name\",\"name\",\"name\",\"name\",\"name\",\"name\",\"name\",\"name\",\"name\",\"name\",\"name\",\"name\",\"name\",\"name\",\"name\",\"name\",\"name\",\"name\",\"name\",\"name\",\"name\",\"name\",\"name\",\"name\",\"name\",\"name\",\"name\",\"name\",\"name\",\"name\",\"name\",\"name\",\"name\",\"name\",\"name\",\"name\",\"name\",\"name\",\"name\",\"name\",\"name\",\"name\",\"name\",\"name\",\"name\",\"name\",\"name\",\"name\",\"name\",\"name\",\"name\",\"name\",\"name\",\"name\",\"name\",\"name\",\"name\",\"name\",\"name\",\"name\",\"name\",\"name\",\"name\",\"name\",\"name\",\"name\",\"name\",\"name\",\"name\",\"name\",\"name\",\"name\",\"name\",\"name\",\"name\",\"name\",\"name\",\"name\",\"name\",\"name\",\"name\",\"name\",\"name\",\"name\",\"name\",\"name\",\"name\",\"name\",\"name\",\"name\",\"name\",\"name\",\"name\",\"name\",\"name\",\"name\",\"name\",\"name\",\"name\",\"name\",\"name\",\"name\",\"name\",\"name\",\"name\",\"name\",\"name\",\"name\",\"name\",\"name\",\"name\",\"name\",\"name\",\"name\",\"name\",\"name\",\"name\",\"name\",\"name\",\"name\",\"name\",\"name\",\"name\",\"name\",\"name\",\"name\",\"name\",\"name\",\"name\",\"name\",\"name\",\"name\",\"name\",\"name\",\"name\",\"name\",\"name\",\"name\",\"name\",\"name\",\"name\",\"name\",\"name\",\"name\",\"name\",\"name\",\"name\",\"name\",\"name\",\"name\",\"name\",\"name\",\"name\",\"name\",\"name\",\"name\",\"name\",\"name\",\"name\",\"name\",\"name\",\"name\",\"name\",\"value\",\"value\",\"value\",\"value\",\"value\",\"value\",\"value\",\"value\",\"value\",\"value\",\"value\",\"value\",\"value\",\"value\",\"value\",\"value\",\"value\",\"value\",\"value\",\"value\",\"value\",\"value\",\"value\",\"value\",\"value\",\"value\",\"value\",\"value\",\"value\",\"value\",\"value\",\"value\",\"value\",\"value\",\"value\",\"value\",\"value\",\"value\",\"value\",\"value\",\"value\",\"value\",\"value\",\"value\",\"value\",\"value\",\"value\",\"value\",\"value\",\"value\",\"value\",\"value\",\"value\",\"value\",\"value\",\"value\",\"value\",\"value\",\"value\",\"value\",\"value\",\"value\",\"value\",\"value\",\"value\",\"value\",\"value\",\"value\",\"value\",\"value\",\"value\",\"value\",\"value\",\"value\",\"value\",\"value\",\"value\",\"value\",\"value\",\"value\",\"value\",\"value\",\"value\",\"value\",\"value\",\"value\",\"value\",\"value\",\"value\",\"value\",\"value\",\"value\",\"value\",\"value\",\"value\",\"value\",\"value\",\"value\",\"value\",\"value\",\"value\",\"value\",\"value\",\"value\",\"value\",\"value\",\"value\",\"value\",\"value\",\"value\",\"value\",\"value\",\"value\",\"value\",\"value\",\"value\",\"value\",\"value\",\"value\",\"value\",\"value\",\"value\",\"value\",\"value\",\"value\",\"value\",\"value\",\"value\",\"value\",\"value\",\"value\",\"value\",\"value\",\"value\",\"value\",\"value\",\"value\",\"value\",\"value\",\"value\",\"value\",\"value\",\"value\",\"value\",\"value\",\"value\",\"value\",\"value\",\"value\",\"value\",\"value\",\"value\",\"value\",\"value\",\"value\",\"value\",\"value\",\"value\",\"value\",\"value\",\"value\",\"value\",\"value\",\"value\",\"value\",\"value\",\"value\",\"value\",\"value\",\"value\",\"value\",\"value\",\"value\",\"value\",\"value\",\"value\",\"value\",\"value\",\"value\",\"value\",\"value\",\"value\",\"value\",\"value\",\"value\",\"value\",\"value\",\"value\",\"value\",\"value\",\"value\",\"value\",\"value\",\"value\",\"value\",\"value\",\"value\",\"value\",\"value\",\"value\",\"value\",\"value\",\"value\",\"value\",\"value\",\"value\",\"value\",\"value\",\"value\",\"value\",\"value\",\"value\",\"value\",\"value\",\"value\",\"value\",\"value\",\"value\",\"value\",\"value\",\"value\",\"value\",\"value\",\"value\",\"value\",\"value\",\"value\",\"value\",\"value\",\"value\",\"value\",\"value\",\"value\",\"value\",\"value\",\"value\",\"value\",\"value\",\"value\",\"value\",\"value\",\"value\",\"value\",\"value\",\"value\",\"value\",\"value\",\"value\",\"value\",\"value\",\"value\",\"value\",\"value\",\"value\",\"value\",\"value\",\"value\",\"value\",\"value\",\"value\",\"value\",\"value\",\"value\",\"value\",\"value\",\"value\",\"value\",\"value\",\"value\",\"value\",\"value\",\"value\",\"value\",\"value\",\"value\",\"value\",\"value\",\"value\",\"value\",\"value\",\"value\",\"value\",\"value\",\"value\",\"value\",\"value\",\"value\",\"value\",\"value\",\"value\",\"value\",\"value\",\"value\",\"value\",\"value\",\"value\",\"value\",\"value\",\"value\",\"value\",\"value\",\"value\",\"value\",\"value\",\"value\",\"value\",\"value\",\"value\",\"value\",\"value\",\"value\",\"value\",\"value\",\"value\",\"value\",\"value\",\"value\",\"value\",\"value\",\"value\",\"value\",\"value\",\"value\",\"value\",\"value\",\"value\",\"value\",\"value\",\"value\",\"value\",\"value\",\"value\",\"value\",\"value\",\"value\",\"value\",\"value\",\"value\",\"value\",\"value\",\"value\",\"value\",\"value\",\"value\",\"value\",\"value\",\"value\",\"value\",\"value\",\"value\",\"value\",\"value\",\"value\",\"value\",\"value\",\"value\",\"value\",\"value\",\"value\",\"value\",\"value\",\"value\",\"value\",\"value\",\"value\",\"value\",\"value\",\"value\",\"value\",\"value\",\"value\",\"value\",\"value\",\"value\",\"value\",\"value\",\"value\",\"value\",\"value\",\"value\",\"value\",\"value\",\"value\",\"value\",\"value\",\"value\",\"value\",\"value\",\"value\",\"value\",\"value\",\"value\",\"value\",\"value\",\"value\",\"value\",\"value\",\"value\",\"value\",\"value\",\"value\",\"value\",\"value\",\"value\",\"value\",\"value\",\"value\",\"value\",\"value\",\"value\",\"value\",\"value\",\"value\",\"value\",\"value\",\"value\",\"value\",\"value\",\"value\",\"value\",\"value\",\"value\",\"value\",\"value\",\"value\",\"value\",\"value\",\"value\",\"value\",\"value\",\"value\",\"value\",\"value\",\"value\",\"value\",\"value\",\"value\",\"value\",\"value\",\"value\",\"value\",\"value\",\"value\",\"value\",\"value\",\"value\",\"value\",\"value\",\"value\",\"value\",\"value\",\"value\",\"value\",\"value\",\"value\",\"value\",\"value\",\"value\",\"value\",\"value\",\"value\",\"value\",\"value\",\"value\",\"value\",\"value\",\"value\",\"value\",\"value\",\"value\",\"value\",\"value\",\"value\",\"value\",\"value\",\"value\",\"value\",\"value\",\"value\",\"value\",\"value\",\"value\",\"value\",\"value\",\"value\",\"value\",\"value\",\"value\",\"value\",\"value\",\"value\",\"value\",\"value\",\"value\",\"value\",\"value\",\"value\",\"value\",\"value\",\"value\",\"value\",\"value\",\"value\",\"value\",\"value\",\"value\",\"value\",\"value\",\"value\",\"value\",\"value\",\"value\",\"value\",\"value\",\"value\"],\n",
       "\"value\":[\"name\",\"name\",\"name\",\"name\",\"name\",\"name\",\"name\",\"name\",\"name\",\"name\",\"name\",\"name\",\"name\",\"name\",\"name\",\"name\",\"name\",\"name\",\"name\",\"name\",\"name\",\"name\",\"name\",\"name\",\"name\",\"name\",\"name\",\"name\",\"name\",\"name\",\"name\",\"name\",\"name\",\"name\",\"name\",\"name\",\"name\",\"name\",\"name\",\"name\",\"name\",\"name\",\"name\",\"name\",\"name\",\"name\",\"name\",\"name\",\"name\",\"name\",\"name\",\"name\",\"name\",\"name\",\"name\",\"name\",\"name\",\"name\",\"name\",\"name\",\"name\",\"name\",\"name\",\"name\",\"name\",\"name\",\"name\",\"name\",\"name\",\"name\",\"name\",\"name\",\"name\",\"name\",\"name\",\"name\",\"name\",\"name\",\"name\",\"name\",\"name\",\"name\",\"name\",\"name\",\"name\",\"name\",\"name\",\"name\",\"name\",\"name\",\"name\",\"name\",\"name\",\"name\",\"name\",\"name\",\"name\",\"name\",\"name\",\"name\",\"name\",\"name\",\"name\",\"name\",\"name\",\"name\",\"name\",\"name\",\"name\",\"name\",\"name\",\"name\",\"name\",\"name\",\"name\",\"name\",\"name\",\"name\",\"name\",\"name\",\"name\",\"name\",\"name\",\"name\",\"name\",\"name\",\"name\",\"name\",\"name\",\"name\",\"name\",\"name\",\"name\",\"name\",\"name\",\"name\",\"name\",\"name\",\"name\",\"name\",\"name\",\"name\",\"name\",\"name\",\"name\",\"name\",\"name\",\"name\",\"name\",\"name\",\"name\",\"name\",\"name\",\"name\",\"name\",\"name\",\"name\",\"name\",\"name\",\"name\",\"name\",\"name\",\"name\",\"name\",\"name\",\"name\",\"name\",\"name\",\"name\",\"name\",\"name\",\"name\",\"name\",\"name\",\"name\",\"name\",\"name\",\"name\",\"name\",\"name\",\"name\",\"name\",\"name\",\"name\",\"name\",\"name\",\"name\",\"name\",\"name\",\"name\",\"name\",\"name\",\"name\",\"name\",\"name\",\"name\",\"name\",\"name\",\"name\",\"name\",\"name\",\"name\",\"name\",\"name\",\"name\",\"name\",\"name\",\"name\",\"name\",\"name\",\"name\",\"name\",\"name\",\"name\",\"name\",\"name\",\"name\",\"name\",\"name\",\"name\",\"name\",\"name\",\"name\",\"name\",\"name\",\"name\",\"name\",\"name\",\"name\",\"name\",\"name\",\"name\",\"name\",\"name\",\"name\",\"name\",\"name\",\"name\",\"name\",\"name\",\"name\",\"name\",\"name\",\"name\",\"name\",\"name\",\"name\",\"name\",\"name\",\"name\",\"name\",\"name\",\"name\",\"name\",\"name\",\"name\",\"name\",\"name\",\"value\",\"value\",\"value\",\"value\",\"value\",\"value\",\"value\",\"value\",\"value\",\"value\",\"value\",\"value\",\"value\",\"value\",\"value\",\"value\",\"value\",\"value\",\"value\",\"value\",\"value\",\"value\",\"value\",\"value\",\"value\",\"value\",\"value\",\"value\",\"value\",\"value\",\"value\",\"value\",\"value\",\"value\",\"value\",\"value\",\"value\",\"value\",\"value\",\"value\",\"value\",\"value\",\"value\",\"value\",\"value\",\"value\",\"value\",\"value\",\"value\",\"value\",\"value\",\"value\",\"value\",\"value\",\"value\",\"value\",\"value\",\"value\",\"value\",\"value\",\"value\",\"value\",\"value\",\"value\",\"value\",\"value\",\"value\",\"value\",\"value\",\"value\",\"value\",\"value\",\"value\",\"value\",\"value\",\"value\",\"value\",\"value\",\"value\",\"value\",\"value\",\"value\",\"value\",\"value\",\"value\",\"value\",\"value\",\"value\",\"value\",\"value\",\"value\",\"value\",\"value\",\"value\",\"value\",\"value\",\"value\",\"value\",\"value\",\"value\",\"value\",\"value\",\"value\",\"value\",\"value\",\"value\",\"value\",\"value\",\"value\",\"value\",\"value\",\"value\",\"value\",\"value\",\"value\",\"value\",\"value\",\"value\",\"value\",\"value\",\"value\",\"value\",\"value\",\"value\",\"value\",\"value\",\"value\",\"value\",\"value\",\"value\",\"value\",\"value\",\"value\",\"value\",\"value\",\"value\",\"value\",\"value\",\"value\",\"value\",\"value\",\"value\",\"value\",\"value\",\"value\",\"value\",\"value\",\"value\",\"value\",\"value\",\"value\",\"value\",\"value\",\"value\",\"value\",\"value\",\"value\",\"value\",\"value\",\"value\",\"value\",\"value\",\"value\",\"value\",\"value\",\"value\",\"value\",\"value\",\"value\",\"value\",\"value\",\"value\",\"value\",\"value\",\"value\",\"value\",\"value\",\"value\",\"value\",\"value\",\"value\",\"value\",\"value\",\"value\",\"value\",\"value\",\"value\",\"value\",\"value\",\"value\",\"value\",\"value\",\"value\",\"value\",\"value\",\"value\",\"value\",\"value\",\"value\",\"value\",\"value\",\"value\",\"value\",\"value\",\"value\",\"value\",\"value\",\"value\",\"value\",\"value\",\"value\",\"value\",\"value\",\"value\",\"value\",\"value\",\"value\",\"value\",\"value\",\"value\",\"value\",\"value\",\"value\",\"value\",\"value\",\"value\",\"value\",\"value\",\"value\",\"value\",\"value\",\"value\",\"value\",\"value\",\"value\",\"value\",\"value\",\"value\",\"value\",\"value\",\"value\",\"value\",\"value\",\"value\",\"value\",\"value\",\"value\",\"value\",\"value\",\"value\",\"value\",\"value\",\"value\",\"value\",\"value\",\"value\",\"value\",null,null,null,null,null,null,null,null,null,null,null,null,null,null,null,null,null,null,null,null,null,null,null,null,null,null,null,null,null,null,null,null,null,null,null,null,null,null,null,null,null,null,null,null,null,null,null,null,null,null,null,null,null,null,null,null,null,null,null,null,null,null,null,null,null,null,null,null,null,null,null,null,null,null,null,\"value\",\"value\",\"A\",\"C\",\"Y\",61.822272759071275,58.33270434538211,21.467148256608585,77.54499098841276,77.4900026551831,61.841549741008535,54.027571163965106,40.08728082209192,35.799381683887475,17.08126581681384,64.17692485664035,39.07850501920282,37.588198981287995,47.9418971615628,46.25949092272052,43.55172801872882,89.43664139311716,51.0286351990663,57.96320448306701,30.894883352091046,67.69815974892626,19.292529154734048,16.91253913087722,44.6085317690961,65.57861165799643,46.21539554629281,49.217164069758475,31.462287288830495,73.24482971512556,42.058584676621,49.027859854388474,60.48053338469202,60.48053338469202,80.59725002202975,91.15177239857019,51.46143012819402,-9.123809455808505,41.34358321908866,43.26187834114292,44.06103034476337,51.01365024946232,32.11252608539175,33.982522246938416,76.04926557748767,35.11488335316847,47.400106334364494,45.982657320911144,21.1155533734455,56.030703887485245,30.469069575671025,67.64164199996165,47.17321837693394,29.36254490832612,40.750651869943624,47.10871426360776,55.430081993553785,44.06281463246307,68.2149018889665,56.36539747270966,26.67602727905921,99.53089834849189,65.87649678156652,11.822273499423439,36.95367112779711,58.64353488560933,66.24388974979364,56.79654489433878,74.40995898192006,34.83225823585706,9.904937869956996,49.06688607187685,65.92549171127476,73.20960321078336,43.80839389458546,55.47803644461004,33.936217488456656,33.32499766609571,49.09819801109309,37.98868289910784,50.433257219611455,60.77076640802524,27.086246755098813,63.02878370316623,45.50469460742584,42.25106465108423,52.809605913505486,73.9995298357469,53.18310324489253,56.67821212074687,29.42104249875307,32.90917780247365,-3.03653079332787,43.85487173238836,34.56319455457432,64.45339118582879,29.64753439470339,40.98206683964678,48.363455346072485,37.56532093563244,75.88463353657868,82.9480577501881,42.41035290021852,27.337430545212428,52.70180874881852,42.35998679310473,68.04225869476048,84.87488243244265,43.23751713807973,56.43677475229448,-1.643338405531118,28.371315379214032,22.164280277470688,88.11236359922947,78.0188270124539,81.55313938447196,68.29757872337285,33.99833580989612,117.46737096355017,46.56691548443655,48.06032574585159,37.712227957436426,32.419340219827646,75.54439163618284,52.53521700820442,46.60284122881478,66.89785331386298,-3.8918885009252193,29.42931857049375,70.69350708122938,52.83362031672863,47.1357827975713,83.38959219081089,54.14879210398804,54.54574338779129,40.02679760234327,77.83857077577919,56.28445654297201,58.035214060413175,51.15892726219325,32.961072870085204,47.8970976677393,55.848676763486125,55.883764886676396,84.96327270159722,46.16332216750871,31.565844259687786,8.126797135616776,49.3821182420707,45.945820682173654,75.94150872814589,62.0731024827498,49.89013536343743,64.83587233234675,36.924401171740804,16.872153143952367,78.33110748197258,72.04897390995419,61.56985909533941,73.19915749197445,82.217720764665,26.475578819830652,41.496745239333436,51.044623780824296,44.70518619563532,0.8175337707500603,45.60247372765757,52.25517283001937,5.0829773065615385,43.65006158720891,5.111079589639786,42.75031318449447,53.791223569273576,50.51574289543452,49.49728186075013,29.297283867581136,66.26840162164534,60.97360738520794,23.342683413527602,65.14307104159492,65.14307104159492,65.68137157526287,22.00132456408989,66.46526571210163,85.56001388930352,61.54787359121532,45.063376582669385,44.95109933348939,30.964329884300916,92.58215519034614,53.82793268993407,73.92271491691382,80.95375087832794,53.48105350502329,64.35429589588476,71.74066641140297,56.49599035272113,26.02499583206751,48.23996820801072,81.13464069283671,96.77203807164332,25.583697944436523,76.69953612723982,55.938724255257,64.76435245545215,44.05056931656993,94.58546876813341,77.06995336367578,32.49824940419403,68.26526267192494,26.50413597836326,0.04368795427069472,19.66168307361373,25.313838334438806,59.994590220666765,12.969540861245527,57.20612389459106,26.332207505413542,49.862417978819295,89.89246565901415,18.988381383270884,62.653454078947405,90.03182522650404,36.43766733418373,76.34770062373393,71.15577398421125,42.496107473557814,16.842169479139457,56.89318317530365,45.84147366580413,58.404642032647914,80.74465324507864,92.03253808319239,21.553877036159218,46.42059143750663,100.3168427725779,36.39430248481108,11.499775624033411,85.05010007041884,61.88012072395596,46.90507090576202,54.74417511611861,72.64554792210888,46.577302453794175,68.46069014592469,60.260133622651686,51.278718026259455,55.42867602067586,36.94709614782073,60.85113771827112,54.90945160406892,39.68002607191569,45.066239449967405,58.784458588566906,46.53295120069721,63.12455385293572,98.13202718091586,87.00473491738934,60.001847940333576,47.570276068345564,76.8395760320928,44.44218173474108,39.694434403621024,71.12070776660047,49.45178627539705,69.47482355764525,75.23346550586218,70.76491191934869,76.85018932760283,42.27983670662505,58.20430169318418,46.43310668577945,44.71479057218434,22.127977654245218,34.40584509883807,14.308012445409148,59.229784443532864,24.838021230690707,81.31096626313018,45.63799199331486,64.09356877856138,23.365665550396546,50.387621635741226,4.000182495232934,42.95424490239295,62.38941246013023,65.02829528946782,57.18672268708092,22.077179223433312,79.51788040038323,20.484798196098048,91.4434979628976,74.05197981743771,49.60816477251281,16.791726187172898,39.93978692578131,58.56488615486818,61.68376810374396,63.20044178891743,50.9819292391695,36.50649409556731,50.99510913320605,94.53230420886699,54.16758364791767,51.16186498727046,69.94250165739697,63.022632953622825,72.30078244184247,61.61457054657457,42.64514134944915,42.990696267823786,23.05239109884749,57.322065676763806,46.68010759545065,55.05908522872871,81.58451418687156,50.51404688582,41.51823463909132,81.50316973774028,78.72237252702976,73.19781226392543,71.46698959209625,22.843630899569295,69.03078117573926,52.83989825874461,78.39324233415698,80.44807697412656,55.76528155204126,71.63636374022657,40.29702430631834,58.49917352908673,22.123961821608855,47.34423161782313,47.414527705931754,20.578706891881016,66.17690317898258,28.504746074115594,43.502668466801666,4.6388933171844045,29.871314465378124,37.9151409925776,55.35298307518925,68.38005596687104,40.337169451984074,51.64661025156185,92.14850434850715,47.364752022397624,37.412880740318755,68.80892063828296,73.55303635566568,71.59626384256006,41.055148217793814,82.65696030956346,28.804658439951503,52.78784939403862,45.42718220864574,65.29686263989254,15.909682533459204,96.40726851733547,77.36594151496003,null,null,null,null,null,null,null,null,null,null,null,null,null,null,null,null,null,null,null,null,null,null,null,null,null,null,null,null,null,null,null,null,null,null,null,null,null,null,null,null,null,null,null,null,null,null,null,null,null,null,null,null,null,null,null,null,null,null,null,null,null,null,null,null,null,null,null,null,null,null,null,null,null,null,null,null],\n",
       "\"..violinwidth..\":[0.011108998294184767,0.012138796910379206,0.013252364456383463,0.014455332200366797,0.015753598131489167,0.017153329441139134,0.018660963989235956,0.02028321065637534,0.022027048480939337,0.023899724479179325,0.025908750045854113,0.028061895833278113,0.030367185007677003,0.03283288478365043,0.03546749614028787,0.03827974162619639,0.04127855116539986,0.04447304578176193,0.047872519166389,0.051486417020311356,0.055324314113733154,0.059395889013254204,0.06371089643966023,0.0682791372312799,0.07311042590130183,0.07821455579204,0.08360126184462187,0.08928018101917372,0.09526081041800467,0.10155246318257259,0.10816422225409159,0.11510489210723539,0.12238294858664477,0.13000648699653594,0.13798316861443663,0.14632016582111662,0.15502410605953382,0.1641010148562476,0.17355625815890702,0.18339448426295543,0.19361956561943802,0.204234540833441,0.21524155717924387,0.2266418139732236,0.23843550715903503,0.2506217754711626,0.2631986485524313,0.27616299740850525,0.28951048758733405,0.3032355354738328,0.3173312680899537,0.33178948678705716,0.34660063521150336,0.36175377191523667,0.37723654797100037,0.3930351899364597,0.40913448849294254,0.42551779306298215,0.442167012685832,0.45906262340264054,0.4761836823719471,0.4935078489024925,0.5110114125545572,0.5286693284217067,0.546455259664408,0.5643416273235936,0.5822996673978976,0.6002994951219935,0.6183101763363,0.6362998057902163,0.6542355921731028,0.6720839496181249,0.6898105953768431,0.7073806533145806,0.7247587628308115,0.7419091927641634,0.7587959597993417,0.7753829508524565,0.7916340488749094,0.8075132614802718,0.8229848517690252,0.8380134706980289,0.852564290319091,0.8666031371921394,0.8800966252643614,0.8930122874976214,0.9053187055221394,0.9169856365944558,0.9279841371445673,0.938286682207452,0.9478672800505573,0.9567015813296843,0.9647669821331473,0.9720427203031882,0.9785099644615659,0.9841518952042534,0.9889537779759278,0.9929030271824042,0.9959892611501404,0.9982043475975085,0.9995424393384879,0.9995424393384879,1.0,0.999575819594203,0.9982710198496106,0.9960890492688291,0.9930356679425764,0.9891189222142011,0.9843491093502491,0.9787387324346372,0.9723024457623921,0.9650569910671274,0.9570211249706894,0.9482155380947197,0.9386627663222551,0.9283870947422135,0.9174144548490474,0.905772315606677,0.8934895690162125,0.8805964108539229,0.8671242172673234,0.8531054179330567,0.8385733664924617,0.823562208985606,0.8081067510064815,0.7922423242969943,0.7760046534890785,0.7594297236898725,0.7425536495864824,0.7254125467241905,0.7080424055847463,0.6904789690610766,0.6727576138899979,0.6549132365676521,0.6369801442321007,0.6189919509550315,0.6009814798401012,0.5829806712796001,0.5650204976734645,0.5471308848671954,0.5293406405164828,0.5116773895380036,0.49416751675810977,0.4768361168236275,0.45970695139283807,0.4428024135800144,0.42614349958430636,0.4097497873914693,0.39363942239985317,0.3778291097839931,0.36233411337724075,0.34716826082190266,0.3323439547097943,0.317872189408823,0.30376257325150324,0.2900233557413558,0.27666145941800346,0.26368251601005416,0.25109090649455507,0.23888980467671597,0.22708122389959534,0.21566606649351153,0.2046441755770816,0.19401438882660893,0.1837745938377592,0.17392178471337938,0.1644521195221775,0.15536097828670864,0.14664302117409195,0.1382922465793248,0.13030204880835544,0.12266527508734267,0.11537428164360806,0.10842098862404254,0.10179693363742097,0.09549332372768168,0.08950108560647099,0.08381091399376037,0.07841331793613046,0.07329866499245266,0.06845722319642242,0.06387920072443072,0.05955478321562394,0.055474168708359,0.051627600174074154,0.048005395644919686,0.04459797594631619,0.041395890058859054,0.03838983814662242,0.03557069229996071,0.032929515051257616,0.03045757573089839,0.028146364738836097,0.025987605813783204,0.023973266387934664,0.0220955661197605,0.02034698370124039,0.01872026203862894,0.01720841190782568,0.015804714186457482,0.014502720765121246,0.013296254239786606,0.012179406486341233,0.011146536216538834,0.010192265612479915,0.009311476134022632,0.008499303590505573,0.007751132564672099,0.007062590272998442,0.0064295399426214424,0.005848073780916353,0.00531450560943356,0.004825363229532915,0.004377380582537556,0.0039674897627897335,0.0035928129374952337,0.0032506542228410893,0.002938491561531583,0.0026539686426626987,0.002394886900743328,0.002159197626726149,0.0019449942201157483,0.0017505046076008064,0.0015740838502372521,0.0014142069579689887,0.0012694619272438385,0.0011385430146517133,0.001020244256891496,9.134532449550092E-4,8.171451582024052E-4,7.30377061992353E-4,6.522824707108037E-4,5.820661764161102E-4,5.18999341874627E-4,4.62414855492898E-4,4.117029445542366E-4,3.6630704222829146E-4,3.2571990303477703E-4,2.8947996079876237E-4,2.57167922621962E-4,2.2840359201077795E-4,2.0284291402930795E-4,1.8017523518356414E-4,1.6012077067836553E-4,1.4242827171452368E-4,1.268728856021782E-4,1.1325420164987876E-4,1.013944760402989E-4,9.113702921518866E-5,8.234480965895874E-5,7.489911838485208E-5,6.869848888483492E-5,6.365771779903511E-5,5.970704208676601E-5,5.679145903530869E-5,5.487018601938687E-5,5.3916257519773155E-5,5.3916257519773155E-5,5.3916257519774714E-5,5.487018601938622E-5,5.679145903530801E-5,5.970704208676672E-5,6.365771779903614E-5,6.869848888483585E-5,7.48991183848516E-5,8.234480965896151E-5,9.113702921518626E-5,1.0139447604029815E-4,1.1325420164988033E-4,1.268728856021784E-4,1.4242827171452867E-4,1.6012077067836312E-4,1.8017523518356251E-4,2.0284291402931305E-4,2.2840359201078172E-4,2.5716792262195826E-4,2.8947996079876535E-4,3.2571990303479855E-4,3.663070422282784E-4,4.1170294455423535E-4,4.624148554928871E-4,5.18999341874621E-4,5.820661764161144E-4,6.52282470710804E-4,7.303770619923538E-4,8.171451582023837E-4,9.134532449549952E-4,0.0010202442568914868,0.0011385430146516958,0.0012694619272438387,0.0014142069579689972,0.0015740838502372033,0.0017505046076008242,0.0019449942201157752,0.002159197626726182,0.0023948869007432575,0.0026539686426627837,0.002938491561531562,0.003250654222840985,0.003592812937495388,0.003967489762789761,0.004377380582537691,0.004825363229533132,0.005314505609433776,0.005848073780916084,0.006429539942621707,0.007062590272998302,0.007751132564672128,0.008499303590505386,0.009311476134022702,0.0101922656124796,0.011146536216539044,0.012179406486341152,0.013296254239787038,0.01450272076512107,0.015804714186457472,0.01720841190782525,0.0187202620386287,0.02034698370124025,0.02209556611976071,0.02397326638793409,0.02598760581378349,0.02814636473883604,0.030457575730898703,0.032929515051258136,0.03557069229996237,0.038389838146622335,0.0413958900588606,0.04459797594631685,0.048005395644921754,0.051627600174073744,0.055474168708360715,0.05955478321562222,0.06387920072443123,0.06845722319641857,0.07329866499245329,0.07841331793613224,0.08381091399376048,0.08950108560646834,0.0954933237276787,0.10179693363742186,0.10842098862404477,0.11537428164360555,0.12266527508734125,0.13030204880835725,0.13829224657932754,0.14664302117409375,0.15536097828670048,0.16445211952218075,0.17392178471338135,0.18377459383775488,0.1940143888266072,0.20464417557708864,0.21566606649350265,0.22708122389958676,0.23888980467671356,0.2510909064945575,0.26368251601005205,0.2766614594180013,0.29002335574135335,0.30376257325151673,0.3178721894088246,0.3323439547097948,0.3471682608219095,0.3623341133772259,0.37782910978399364,0.3936394223998389,0.40974978739148027,0.4261434995843065,0.44280241358000716,0.45970695139282514,0.4768361168236452,0.4941675167581238,0.5116773895380148,0.5293406405164914,0.5471308848672023,0.56502049767347,0.5829806712796042,0.6009814798401085,0.6189919509550349,0.6369801442321029,0.6549132365676545,0.6727576138899992,0.6904789690610775,0.7080424055847473,0.7254125467241911,0.7425536495864828,0.7594297236898727,0.7760046534890819,0.7922423242969947,0.8081067510064815,0.8235622089856061,0.8385733664924626,0.8531054179330567,0.8671242172673234,0.880596410853951,0.8934895690162131,0.905772315606677,0.9174144548490482,0.9283870947422135,0.9386627663222551,0.9482155380947197,0.9570211249706894,0.9650569910671274,0.9723024457623921,0.9787387324346372,0.9843491093502491,0.9891189222142011,0.9930356679425764,0.9960890492688291,0.9982710198496106,0.999575819594203,0.999575819594203,1.0,0.9995424393384879,0.9982043475975085,0.9959892611501404,0.9929030271824042,0.9889537779759278,0.9841518952042534,0.9785099644615659,0.9720427203031882,0.9647669821331373,0.9567015813296841,0.9478672800505573,0.938286682207452,0.9279841371445665,0.9169856365944558,0.9053187055221393,0.8930122874976185,0.8800966252643335,0.8666031371921394,0.8525642903190909,0.8380134706980289,0.8229848517690251,0.807513261480271,0.7916340488749094,0.7753829508524562,0.7587959597993205,0.7419091927641634,0.7247587628308113,0.7073806533145803,0.6898105953768428,0.6720839496181249,0.6542355921731028,0.6362998057902159,0.6183101763362999,0.6002994951219934,0.5822996673978976,0.5643416273235935,0.546455259664408,0.5286693284217067,0.5110114125545572,0.49350784890249244,0.4761836823719469,0.45906262340264015,0.44216701268583186,0.42551779306298215,0.4091344884929422,0.3930351899364596,0.37723654797100037,0.3617537719152366,0.3466006352115033,0.33178948678705705,0.3173312680899536,0.3032355354738327,0.28951048758733405,0.2761629974085031,0.2631986485524307,0.2506217754711602,0.238435507159035,0.22664181397322355,0.21524155717924387,0.204234540833441,0.19361956561943794,0.1833944842629554,0.173556258158907,0.16410101485624748,0.15502410605953382,0.1463201658211164,0.13798316861443227,0.13000648699653594,0.12238294858664443,0.11510489210723525,0.10816422225409159,0.10155246318257258,0.09526081041800306,0.08928018101917332,0.08360126184462183,0.07821455579203984,0.07311042590130183,0.06827913723127978,0.06371089643965962,0.059395889013254204,0.05532431411373314,0.051486417020309774,0.047872519166388974,0.04447304578176192,0.04127855116539978,0.03827974162619639,0.035467496140287845,0.03283288478365033,0.03036718500767698,0.028061895833278113,0.02590875004585408,0.023899724479179325,0.022027048480939327,0.0202832106563753,0.018660963989235956,0.01715332944113913,0.015753598131489126,0.014455332200366796,0.013252364456383461,0.012138796910379009,0.011108998294184559,2.4413947018294406E-5,2.7539012437168562E-5,3.1015596353248955E-5,3.48765392017502E-5,3.915688818635579E-5,4.389394022993998E-5,4.912727171290635E-5,5.4898753096826425E-5,6.125254647542276E-5,6.823508405856713E-5,7.589502558045638E-5,8.428319263357255E-5,9.345247796780207E-5,1.0345772786214982E-4,1.1435559577680774E-4,1.2620436562834787E-4,1.3906374320214862E-4,1.529946144250604E-4,1.6805876946896105E-4,1.843185919422629E-4,2.018367127516192E-4,2.2067562857884887E-4,2.408972853172237E-4,2.625626272438341E-4,2.857311131681818E-4,3.1046020128703585E-4,3.36804804987372E-4,3.6481672236759723E-4,3.9454404278522283E-4,4.2603053428059187E-4,4.5931501626297487E-4,4.944307223690114E-4,5.314046589057949E-4,5.702569647626345E-4,6.11000279107249E-4,6.536391235648189E-4,6.981693059024739E-4,7.445773524986415E-4,7.928399770571945E-4,8.429235931238187E-4,8.947838779673382E-4,9.483653952980195E-4,0.00100360128410172,0.0010604130205695208,0.0011187102596963746,0.0011783907626069395,0.0012393404150447735,0.0013014333417344969,0.0013645321205009704,0.00142848809911077,0.0014931418167980033,0.0015583235313601262,0.0016238538515694892,0.0016895444734593339,0.0017551990178206079,0.0018206139650076203,0.001885579681909735,0.001949881534724717,0.0020133010799809037,0.0020756173251221186,0.002136608048907273,0.002196051170902816,0.002253726158480262,0.0023094154589855644,0.0023629059441359276,0.0024139903532405305,0.0024624687215355576,0.0025081497797886996,0.002550852311362131,0.002590406453133782,0.002626654927061748,0.00265945418973455,0.002688675487977098,0.002714205809466864,0.002735948718351286,0.0027538250670276813,0.0027538250670276813,0.002767773576540383,0.002777751279445885,0.0027837338204777253,0.0027857156118875326,0.0027837098419268734,0.0027777483365430946,0.002767881275966314,0.002754176769447677,0.0027367202929409955,0.0027156139959870125,0.0026909758854347524,0.0026629388949066775,0.0026316498500574535,0.0025972683406872915,0.0025599655116243115,0.0025199227849882276,0.0024773305269751304,0.0024323866726579367,0.0023852953224798757,0.0023362653241247623,0.0022855088532876314,0.0022332400065434425,0.0021796734190333315,0.0021250229190617194,0.0020695002309456547,0.002013313736582323,0.001956667305229878,0.001899759199936239,0.0018427810679271309,0.0017859170210891245,0.001729342811478291,0.0016732251055664154,0.0016177208597219894,0.0015629767982295291,0.0015091289939924237,0.0015091289939924237,0.001456302550958393,0.0014046113862619142,0.0013541581091101739,0.0013050339925541232,0.0012573190334946578,0.0012110820955801972,0.0011663811290615275,0.0011232634611836353,0.0010817661503149383,0.0010419163967393657,0.0010037320028644346,9.672218755248719E-4,9.323865630810962E-4,8.992188201189948E-4,8.677041927446932E-4,8.378216177273232E-4,8.095440290662852E-4,7.828389659373736E-4,7.576691763965863E-4,7.339932116810991E-4,7.117660064358697E-4,6.909394407022208E-4,6.714628800233241E-4,6.532836905433683E-4,6.363477264941747E-4,6.205997879693964E-4,6.05984047375637E-4,5.924444434170111E-4,5.799250419101484E-4,5.683703631372342E-4,5.577256758218992E-4,5.47937258155053E-4,5.389526266034381E-4,5.30720733501989E-4,5.231921346621567E-4,5.163191284223467E-4,5.100558677247968E-4,5.043584469268106E-4,4.99184965145046E-4,4.944955679918035E-4,4.902524695940463E-4,4.864199567919894E-4,4.82964377396928E-4,4.798541143503975E-4,4.7705954757138895E-4,4.7455300520793836E-4,4.7230870592645895E-4,4.7030269377934953E-4,4.685127670909366E-4,4.669184026959462E-4,4.6550067675546746E-4,4.6424218326466475E-4,4.63126951255887E-4,4.6214036159180353E-4,4.6126906413702034E-4,4.6050089599435735E-4,4.598248013944081E-4,4.5923075373493285E-4,4.5870968018051723E-4,4.5825338915313354E-4,4.5785450097102497E-4,4.575063818267802E-4,4.572030812355584E-4,4.569392730310642E-4,4.5671019993990137E-4,4.5651162172403694E-4,4.563397668460303E-4,4.5619128758206943E-4,4.5606321848329E-4,4.5595293806594857E-4,4.5585813359545204E-4,4.5577676881741253E-4,4.5570705448057746E-4,4.556474214912261E-4,4.5559649653590317E-4,4.555530800090936E-4,4.5551612608397236E-4,4.554847247676364E-4,4.554580857867711E-4,4.554355241553235E-4,4.554164472822451E-4,4.554003434844149E-4,4.5538677177736354E-4,4.5537535282416425E-4,4.5536576093074935E-4,4.553577169837329E-4,4.5535098223464083E-4,4.5534535284197256E-4,4.5534065508984445E-4,4.553367412089965E-4,4.553334857325973E-4,4.5533078232554944E-4,4.5532854103195726E-4,4.553266858908858E-4,4.55325152875653E-4,4.55323888116641E-4,4.5532284637191036E-4,4.553219897138958E-4,4.553212864040363E-4,4.5532070993048327E-4,4.5532023818698614E-4,4.553198527736867E-4,4.553195384029672E-4,4.553192823956012E-4,4.553190742543397E-4,4.5531890530379126E-4,4.553187683868904E-4,4.553186576095571E-4,4.553185681263665E-4,4.553184959609626E-4,4.55318437855899E-4,4.553183911473291E-4,4.553183536606362E-4,4.5531832362367904E-4,4.553182995948108E-4,4.5531828040328606E-4,4.553182650999962E-4,4.55318252916848E-4,4.5531824323331545E-4,4.553182355489491E-4,4.5531822946083767E-4,4.553182246451612E-4,4.553182208421037E-4,4.5531821784356683E-4,4.553182154831597E-4,4.553182136280652E-4,4.5531821217245096E-4,4.553182110321254E-4,4.553182101402305E-4,4.5531820944376433E-4,4.553182089007771E-4,4.5531820847812503E-4,4.5531820814966793E-4,4.5531820789482345E-4,4.553182076974079E-4,4.5531820754472535E-4,4.5531820742682845E-4,4.553182073359358E-4,4.5531820726597177E-4,4.55318207212203E-4,4.553182071709442E-4,4.553182071393311E-4,4.5531820711514233E-4,4.5531820709665793E-4,4.5531820708254634E-4,4.5531820707177864E-4,4.5531820707177864E-4,4.5531820706356E-4,4.553182070572773E-4,4.5531820705245555E-4,4.5531820704872535E-4,4.5531820704580077E-4,4.5531820704345234E-4,4.553182070414956E-4,4.553182070397778E-4,4.5531820703816555E-4,4.553182070365344E-4,4.553182070347624E-4,4.553182070327195E-4,4.5531820703025944E-4,4.5531820702721175E-4,4.5531820702336966E-4,4.553182070184773E-4,4.553182070122119E-4,4.55318207004169E-4,4.553182069938378E-4,4.553182069805675E-4,4.553182069635389E-4,4.5531820694171026E-4,4.553182069137633E-4,4.5531820687803724E-4,4.553182068324334E-4,4.553182067743079E-4,4.553182067003391E-4,4.553182066063523E-4,4.553182064871183E-4,4.5531820633608924E-4,4.553182061450888E-4,4.553182059039161E-4,4.5531820559986766E-4,4.5531820521715357E-4,4.553182047361757E-4,4.553182041326521E-4,4.5531820337654897E-4,4.5531820243077686E-4,4.5531820124961346E-4,4.5531819977678433E-4,4.553181979431514E-4,4.5531819566390854E-4,4.5531819283520556E-4,4.553181893300899E-4,4.5531818499362824E-4,4.553181796370567E-4,4.553181730307825E-4,4.5531816489602746E-4,4.553181548948606E-4,4.5531814261834684E-4,4.553181275724614E-4,4.5531810916140536E-4,4.553180866678647E-4,4.553180592296874E-4,4.553180258124209E-4,4.553179851769929E-4,4.5531793584178076E-4,4.553178760381688E-4,4.553178036585856E-4,4.553177161958631E-4,4.553176106726139E-4,4.5531748355914705E-4,4.553173306782485E-4,4.5531714709496414E-4,4.553169269892608E-4,4.553166635092307E-4,4.5531634860219566E-4,4.5531597282080425E-4,4.5531552510087313E-4,4.553149925074075E-4,4.553143599448383E-4,4.553136098271699E-4,4.553127217032851E-4,4.5531167183225163E-4,4.553104327030071E-4,4.5530897249236346E-4,4.553072544547738E-4,4.5530523623682847E-4,4.5530286910898274E-4,4.5530009710650205E-4,4.552968560711786E-4,4.5529307258489844E-4,4.5528866278572174E-4,4.5528353105676655E-4,4.552775685778373E-4,4.552706517294851E-4,4.552626403390003E-4,4.5525337575771956E-4,4.552426787590725E-4,4.552303472469181E-4,4.552161537640092E-4,4.551998427908742E-4,4.55181127826052E-4,4.5515968823944055E-4,4.551351658915824E-4,4.551071615130241E-4,4.550752308394426E-4,4.550388805000611E-4,4.5499756365902604E-4,4.5495067541183787E-4,4.54897547941676E-4,4.5483744544354455E-4,4.5476955882753676E-4,4.546930002162503E-4,4.546067972554027E-4,4.54509887261042E-4,4.544011112313528E-4,4.5427920775594995E-4,4.541428068606351E-4,4.539904238309116E-4,4.5382045306294395E-4,4.5363116199620353E-4,4.5342068518754896E-4,4.5318701859198984E-4,4.5292801412073796E-4,4.526413745522863E-4,4.523246488771194E-4,4.5197522816106314E-4,4.515903420162483E-4,4.5116705577195074E-4,4.507022684402037E-4,4.5019271157283817E-4,4.496349491074446E-4,4.4902537829957947E-4,4.4836023183717253E-4,4.47635581230562E-4,4.4684734156769107E-4,4.459912777187454E-4,4.4506301206783484E-4,4.440580338411129E-4,4.4297171009108544E-4,4.417992983856403E-4,4.405359612376854E-4,4.391767822971363E-4,4.3771678431152783E-4,4.3615094884471304E-4,4.3447423772519176E-4,4.326816161766241E-4,4.3076807756327215E-4,4.287286696626444E-4,4.265585223566899E-4,4.242528766118051E-4,4.2180711459686103E-4,4.1921679076776646E-4,4.164776637270136E-4,4.1358572864751955E-4,4.1053725003216526E-4,4.073287945640714E-4,4.0395726378811904E-4,4.004199263518165E-4,3.9671444952360296E-4,3.928389296993365E-4,3.8879192160323935E-4,3.8457246588818986E-4,3.801801148421138E-4,3.7561495591245474E-4,3.7087763276940136E-4,3.6596936364071016E-4,3.6089195666663427E-4,3.556478220425151E-4,3.5023998073898E-4,3.4467206961516663E-4,3.3894834276882493E-4,3.3307366899819893E-4,3.2705352528399E-4,3.208939862350861E-4,3.146017094787057E-4,3.081839170137234E-4,3.016483725847836E-4,2.950033551738585E-4,2.882576287447042E-4,2.814204084137064E-4,2.7450132325739944E-4,2.6751037600197336E-4,2.6045789987294896E-4,2.533545129133686E-4,2.4621107010598816E-4,2.3903861365864154E-4,2.3184832183187652E-4,2.2465145670383296E-4,2.1745931127896572E-4,2.1028315635438633E-4,2.0313418756026576E-4,1.9602347298882755E-4,1.8896190182001455E-4,1.8196013434100588E-4,1.7502855374157994E-4,1.6817722004802815E-4,1.6141582653523908E-4,1.5475365892998202E-4,1.4819955768871214E-4,1.4176188360077145E-4,1.3544848693315884E-4,1.292666802964954E-4,1.2322321537395255E-4,1.1732426361620306E-4,1.1157540096640168E-4,1.0598159664031574E-4,1.0054720594843776E-4,9.527596710973885E-5,9.017100197104655E-5,8.52348205122885E-5,8.046932898636562E-5,7.587584151356425E-5,7.145509492441174E-5,6.720726662199492E-5,6.313199521513993E-5,5.922840365763584E-5,5.54951246159279E-5,5.193032777845781E-5,4.8531748814023226E-5,4.529671968412672E-5,4.22222000151443E-5,3.9304809240121455E-5,3.6540859226891547E-5,3.392638711880786E-5,3.145718812640143E-5,2.912884802248501E-5,2.6936775109307167E-5,2.487623144403468E-5,2.294236312779438E-5,2.1130229483445616E-5,1.9434830967864567E-5,1.78511356855274E-5,1.6374104391291607E-5,1.4998713891234362E-5,1.3719978770966587E-5,1.2532971400785907E-5,1.1432840186148813E-5,1.0414826050070284E-5,9.474277151040237E-6,8.60666185575905E-6,7.807580000346635E-6,7.072772486591305E-6,6.398129271238425E-6,5.779695816245707E-6,5.213678076354072E-6,4.696446107258363E-6,4.224536383151999E-6,3.794652916513889E-6,3.403667275778134E-6,3.048617598054961E-6,2.7267066944468734E-6,2.4352993448241495E-6,2.1719188772941043E-6,1.9342431251226873E-6,1.7200998506563063E-6,1.5274617219523716E-6,1.3544409234657229E-6,1.1992834773573776E-6,1.0603633468910281E-6,9.361763880528904E-7,8.253342100598841E-7,7.265579998882043E-7,6.386723604317509E-7]\n",
       "}\n",
       "},{\n",
       "\"geom\":\"boxplot\",\n",
       "\"mapping\":{\n",
       "},\n",
       "\"data_meta\":{\n",
       "},\n",
       "\"whisker_width\":0.0,\n",
       "\"fill\":\"white\",\n",
       "\"width\":0.2,\n",
       "\"alpha\":0.6,\n",
       "\"data\":{\n",
       "\"..middle..\":[\"value\",61.822272759071275],\n",
       "\"..lower..\":[\"name\",\"X\"],\n",
       "\"..upper..\":[\"value\",41.41090139812961],\n",
       "\"..ymin..\":[\"name\",\"A\"],\n",
       "\"..ymax..\":[\"value\",77.36594151496003],\n",
       "\"name\":[\"name\",\"value\"]\n",
       "}\n",
       "},{\n",
       "\"geom\":\"point\",\n",
       "\"stat\":\"boxplot_outlier\",\n",
       "\"mapping\":{\n",
       "},\n",
       "\"show_legend\":false,\n",
       "\"data_meta\":{\n",
       "},\n",
       "\"fill\":\"white\",\n",
       "\"size\":0.0,\n",
       "\"data\":{\n",
       "\"..middle..\":[\"value\",61.822272759071275],\n",
       "\"..lower..\":[\"name\",\"X\"],\n",
       "\"..upper..\":[\"value\",41.41090139812961],\n",
       "\"..ymin..\":[\"name\",\"A\"],\n",
       "\"..ymax..\":[\"value\",77.36594151496003],\n",
       "\"name\":[\"name\",\"value\"],\n",
       "\"value\":[null,null]\n",
       "}\n",
       "}],\n",
       "\"metainfo_list\":[]\n",
       "};\n",
       "           var plotContainer = document.getElementById(\"SalCgP\");\n",
       "           window.letsPlotCall(function() {{\n",
       "               LetsPlot.buildPlotFromProcessedSpecs(plotSpec, -1, -1, plotContainer);\n",
       "           }});\n",
       "       })();    \n",
       "   </script>"
      ],
      "text/plain": [
       "<lets_plot.plot.core.PlotSpec at 0x17e0a940d50>"
      ]
     },
     "execution_count": 46,
     "metadata": {},
     "output_type": "execute_result"
    }
   ],
   "source": [
    "combined = violin+geom_boxplot(fill=\"white\",width=0.2,alpha=0.6,outlier_size=0,whisker_width=0)\n",
    "combined"
   ]
  },
  {
   "cell_type": "markdown",
   "metadata": {},
   "source": [
    "Lastly, you can save the figure"
   ]
  },
  {
   "cell_type": "code",
   "execution_count": 47,
   "metadata": {},
   "outputs": [
    {
     "data": {
      "text/plain": [
       "'c:\\\\Users\\\\zaf4-PC\\\\Desktop\\\\repos\\\\template\\\\figures\\\\raw\\\\example.svg'"
      ]
     },
     "execution_count": 47,
     "metadata": {},
     "output_type": "execute_result"
    }
   ],
   "source": [
    "ggsave(combined,\"example.svg\",path='../figures/raw')"
   ]
  }
 ],
 "metadata": {
  "kernelspec": {
   "display_name": "Python 3",
   "language": "python",
   "name": "python3"
  },
  "language_info": {
   "codemirror_mode": {
    "name": "ipython",
    "version": 3
   },
   "file_extension": ".py",
   "mimetype": "text/x-python",
   "name": "python",
   "nbconvert_exporter": "python",
   "pygments_lexer": "ipython3",
   "version": "3.11.4"
  },
  "orig_nbformat": 4
 },
 "nbformat": 4,
 "nbformat_minor": 2
}
